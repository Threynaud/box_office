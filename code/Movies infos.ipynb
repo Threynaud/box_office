{
 "cells": [
  {
   "cell_type": "code",
   "execution_count": 1,
   "metadata": {
    "collapsed": true
   },
   "outputs": [],
   "source": [
    "from web_scraping import *\n",
    "from collections import defaultdict"
   ]
  },
  {
   "cell_type": "code",
   "execution_count": 2,
   "metadata": {
    "collapsed": false
   },
   "outputs": [],
   "source": [
    "page = url_to_page(\"http://www.boxofficemojo.com/movies/?id=avengers11.htm\")"
   ]
  },
  {
   "cell_type": "code",
   "execution_count": 3,
   "metadata": {
    "collapsed": true
   },
   "outputs": [],
   "source": [
    "soup = soup_DOM(page)"
   ]
  },
  {
   "cell_type": "code",
   "execution_count": 4,
   "metadata": {
    "collapsed": false
   },
   "outputs": [
    {
     "data": {
      "text/plain": [
       "datetime.datetime(2012, 5, 4, 0, 0)"
      ]
     },
     "execution_count": 4,
     "metadata": {},
     "output_type": "execute_result"
    }
   ],
   "source": [
    "raw_release_date = get_movie_value(soup,'Release Date')\n",
    "release_date = to_date(raw_release_date)\n",
    "release_date"
   ]
  },
  {
   "cell_type": "code",
   "execution_count": 5,
   "metadata": {
    "collapsed": false
   },
   "outputs": [
    {
     "data": {
      "text/plain": [
       "623357910"
      ]
     },
     "execution_count": 5,
     "metadata": {},
     "output_type": "execute_result"
    }
   ],
   "source": [
    "raw_domestic_total_gross = get_movie_value(soup,'Domestic Total')\n",
    "domestic_total_gross = money_to_int(raw_domestic_total_gross)\n",
    "domestic_total_gross"
   ]
  },
  {
   "cell_type": "code",
   "execution_count": 6,
   "metadata": {
    "collapsed": false
   },
   "outputs": [
    {
     "data": {
      "text/plain": [
       "142"
      ]
     },
     "execution_count": 6,
     "metadata": {},
     "output_type": "execute_result"
    }
   ],
   "source": [
    "raw_runtime = get_movie_value(soup,'Runtime')\n",
    "runtime = runtime_to_minutes(raw_runtime)\n",
    "runtime"
   ]
  },
  {
   "cell_type": "code",
   "execution_count": 7,
   "metadata": {
    "collapsed": false
   },
   "outputs": [
    {
     "data": {
      "text/plain": [
       "\"Marvel's The Avengers\""
      ]
     },
     "execution_count": 7,
     "metadata": {},
     "output_type": "execute_result"
    }
   ],
   "source": [
    "get_title(soup)"
   ]
  },
  {
   "cell_type": "code",
   "execution_count": 8,
   "metadata": {
    "collapsed": false
   },
   "outputs": [
    {
     "data": {
      "text/plain": [
       "'Buena Vista'"
      ]
     },
     "execution_count": 8,
     "metadata": {},
     "output_type": "execute_result"
    }
   ],
   "source": [
    "get_movie_value(soup,'Distributor')"
   ]
  },
  {
   "cell_type": "code",
   "execution_count": 9,
   "metadata": {
    "collapsed": false
   },
   "outputs": [
    {
     "data": {
      "text/plain": [
       "'PG-13'"
      ]
     },
     "execution_count": 9,
     "metadata": {},
     "output_type": "execute_result"
    }
   ],
   "source": [
    "get_movie_value(soup, 'MPAA Rating')"
   ]
  },
  {
   "cell_type": "code",
   "execution_count": 10,
   "metadata": {
    "collapsed": false
   },
   "outputs": [
    {
     "data": {
      "text/plain": [
       "'$220 million'"
      ]
     },
     "execution_count": 10,
     "metadata": {},
     "output_type": "execute_result"
    }
   ],
   "source": [
    "get_movie_value(soup, 'Production Budget')"
   ]
  },
  {
   "cell_type": "code",
   "execution_count": 11,
   "metadata": {
    "collapsed": true
   },
   "outputs": [],
   "source": [
    "get_movie_value(soup, 'Genre')"
   ]
  },
  {
   "cell_type": "code",
   "execution_count": 12,
   "metadata": {
    "collapsed": false
   },
   "outputs": [
    {
     "data": {
      "text/plain": [
       "<!DOCTYPE html PUBLIC \"-//W3C//DTD HTML 4.01 Transitional//EN\" \"http://www.w3.org/TR/html4/loose.dtd\">\n",
       "<html lang=\"en\">\n",
       "<head>\n",
       "<meta content=\"text/html;charset=utf-8\" http-equiv=\"Content-type\"/>\n",
       "<title>Marvel's The Avengers (2012) - Box Office Mojo</title>\n",
       "<style type=\"text/css\">\n",
       "table.chart-wide { width: 100%; }\n",
       "</style>\n",
       "<meta content=\"marvel's the avengers, movie, film, box office, result, records, charts, revenue, opening weekend, gross, worldwide, overseas, foreign, news, reviews, articles, stories, story, analysis, revenue, release date, mpaa rating, genre, running time, length, budget, production budget, distributor, studio, buena vista, theatrical summary, theatrical, daily box office results, weekend box office results, weekly box office, weekly box office, international box office summary, worldwide box office summary, similar movies, image gallery, images, pictures, photos, box office mojo\" name=\"keywords\"/>\n",
       "<meta content=\"Marvel's The Avengers summary of box office results, charts and release information and related links.\" name=\"description\"/>\n",
       "<link charset=\"utf-8\" href=\"/css/mojo.css?1\" media=\"screen\" rel=\"stylesheet\" title=\"no title\" type=\"text/css\"/>\n",
       "<link charset=\"utf-8\" href=\"/css/mojo.css?1\" media=\"print\" rel=\"stylesheet\" title=\"no title\" type=\"text/css\"/>\n",
       "<script src=\"/js/jscharts.js\" type=\"text/javascript\"></script>\n",
       "</head>\n",
       "<body>\n",
       "<iframe frameborder=\"0\" height=\"1\" id=\"sis_pixel_sitewide\" marginheight=\"0\" marginwidth=\"0\" style=\"display: none;\" width=\"1\"></iframe>\n",
       "<script>\n",
       "    setTimeout(function(){\n",
       "        try{\n",
       "            //sis3.0 pixel\n",
       "            var cacheBust = Math.random() * 10000000000000000,\n",
       "                url_sis3 = 'http://s.amazon-adsystem.com/iu3?',\n",
       "                params_sis3 = [\n",
       "                    \"d=boxofficemojo.com\",\n",
       "                    \"cb=\" + cacheBust\n",
       "                ];\n",
       "\n",
       "            (document.getElementById('sis_pixel_sitewide')).src = url_sis3 + params_sis3.join('&');\n",
       "        }catch(e){\n",
       "            if (window.ueLogError) { \n",
       "                window.ueLogError(e);\n",
       "            }\n",
       "        }\n",
       "    }, 5);\n",
       "</script>\n",
       "<div id=\"container\">\n",
       "<div>\n",
       "<!-- GOOGLE ANALYTICS CODE STARTS -->\n",
       "<script type=\"text/javascript\">\n",
       "\n",
       "  var _gaq = _gaq || [];\n",
       "  _gaq.push(['_setAccount', 'UA-2831726-1']);\n",
       "  _gaq.push(['_trackPageview']);\n",
       "\n",
       "  (function() {\n",
       "    var ga = document.createElement('script'); ga.type = 'text/javascript'; ga.async = true;\n",
       "    ga.src = ('https:' == document.location.protocol ? 'https://ssl' : 'http://www') + '.google-analytics.com/ga.js';\n",
       "    (document.getElementsByTagName('head')[0] || document.getElementsByTagName('body')[0]).appendChild(ga);\n",
       "  })();\n",
       "\n",
       "</script>\n",
       "<!-- GOOGLE ANALYTICS CODE ENDS -->\n",
       "<div id=\"hp_banner\">\n",
       "<div id=\"top_links\">\n",
       "<div style=\"float: left\"><a href=\"/daily/chart/\">Daily Box Office (Sun.)</a> | <a href=\"/weekend/chart/\">Weekend Box Office (Jan. 22–24)</a> | <a href=\"/movies/?id=revenant.htm\">#1 Movie: 'The Revenant'</a> | <a href=\"http://www.imdb.com/showtimes/?ref_=mojo\">Showtimes</a></div>\n",
       "<div style=\"float: right\">Updated 1/25/2016 4:13 P.M. Pacific Time</div>\n",
       "<div style=\"clear:both; height: 0px\"></div>\n",
       "</div>\n",
       "</div>\n",
       "<div id=\"header\">\n",
       "<div id=\"leaderboard\"><!-- begin ad tag (tile=1) -->\n",
       "<script type=\"text/javascript\">\n",
       "//<![CDATA[\n",
       "ord=1227239329;\n",
       "document.write('<iframe src=\"http://ad.doubleclick.net/N4215/adi/imdb2.bom.movie/;p=t;tile=1;sz=728x90;oe=ISO-8859-1;ord=' + ord + '?\" width=\"728\" height=\"90\" marginwidth=\"0\" marginheight=\"0\" frameborder=\"0\" scrolling=\"no\">');\n",
       "\n",
       "if (navigator.userAgent.indexOf(\"Gecko\")==-1)\n",
       "{\n",
       "document.write('<script type=\"text/javascript\" src=\"http://ad.doubleclick.net/N4215/adj/imdb2.bom.movie/;p=t;tile=1;sz=728x90;abr=!ie;oe=ISO-8859-1;ord=' + ord + '?\"><\\/script>');\n",
       "}\n",
       "document.write('<\\/iframe>');\n",
       "//]]>\n",
       "</script>\n",
       "<noscript><a href=\"http://ad.doubleclick.net/N4215/jump/imdb2.bom.movie/;p=t;tile=1;sz=728x90;oe=ISO-8859-1;ord=1227239329?\" target=\"_blank\"><img alt=\"\" border=\"0\" src=\"http://ad.doubleclick.net/N4215/ad/imdb2.bom.movie/;p=t;tile=1;sz=728x90;oe=ISO-8859-1;ord=1227239329?\"/></a></noscript>\n",
       "<!-- end ad tag --></div> <div id=\"hp_logo\"><a href=\"/\"><img alt=\"Box Office Mojo\" height=\"56\" src=\"/img/misc/bom_logo1.png\" width=\"245\"/></a></div>\n",
       "<div style=\"clear:both; height: 0px\"></div>\n",
       "</div>\n",
       "</div>\n",
       "<div id=\"main\">\n",
       "<!-- COLUMN 1 of 4 -->\n",
       "<div id=\"leftnav\">\n",
       "<!-- google_ad_section_start(weight=ignore) -->\n",
       "<!-- <table id=\"navleft\" cellspacing=\"0\" cellpadding=\"2\" border=\"0\"> -->\n",
       "<ul id=\"leftnav\">\n",
       "<li class=\"nl_section\">Search Site</li>\n",
       "<li class=\"nl_link\" style=\"padding-left:0px\">\n",
       "<form action=\"/search/q.php\" method=\"POST\" name=\"searchbox\">\n",
       "<input name=\"q\" style=\"font-size: 9 pt; font-weight: bold; width: 90px;\" type=\"text\"/><br/>\n",
       "<input type=\"submit\" value=\"Search...\"/></form>\n",
       "</li>\n",
       "<li class=\"nl_section\">Social</li>\n",
       "<li class=\"nl_link\"><a href=\"http://facebook.com/boxofficemojo\" style=\"vertical-align:middle;\"><img alt=\"Facebook Logo\" border=\"0\" src=\"/images/FaceBook_16x16.png\"/>Facebook</a></li>\n",
       "<li class=\"nl_link\"><a href=\"http://twitter.com/boxofficemojo\" style=\"vertical-align:middle;\"><img alt=\"Twitter Logo\" border=\"0\" src=\"/images/Twitter_16x16.png\"/>Twitter</a></li>\n",
       "<li class=\"nl_section\">Features</li>\n",
       "<li class=\"nl_link\"><a href=\"/news/\">News</a></li>\n",
       "<li class=\"nl_link\"><a href=\"/schedule/\">Release Sched.</a></li>\n",
       "<li class=\"nl_link\"><a href=\"http://www.imdb.com/showtimes?ref_=mojo\">Showtimes<br/><span style=\"margin-left:7px;color: #999999; font-size: 9px;\">at <img src=\"/images/mojo_imdb_sm.png\"/></span></a></li>\n",
       "<li class=\"nl_section\">Box Office</li>\n",
       "<li class=\"nl_link\"><a href=\"/daily/\">Daily</a></li>\n",
       "<li class=\"nl_link\"><a href=\"/weekend/\">Weekend</a></li>\n",
       "<li class=\"nl_link\"><a href=\"/weekly/\">Weekly</a></li>\n",
       "<li class=\"nl_link\"><a href=\"/monthly/\">Monthly</a></li>\n",
       "<li class=\"nl_link\"><a href=\"/quarterly/\">Quarterly</a></li>\n",
       "<li class=\"nl_link\"><a href=\"/seasonal/\">Seasonal</a></li>\n",
       "<li class=\"nl_link\"><a href=\"/yearly/\">Yearly</a></li>\n",
       "<li class=\"nl_link\"><a href=\"/alltime/\">All Time</a></li>\n",
       "<li class=\"nl_link\"><a href=\"/chartwatch/\">Chart Watch</a></li>\n",
       "<li class=\"nl_link\"><a href=\"/intl/\">International</a></li>\n",
       "<li class=\"nl_section\">Indices</li>\n",
       "<li class=\"nl_link_current\"><a href=\"/movies/\">Movies A-Z</a></li>\n",
       "<li class=\"nl_link\"><a href=\"/studio/\">Studios</a></li>\n",
       "<li class=\"nl_link\"><a href=\"/people/\">People</a></li>\n",
       "<li class=\"nl_link\"><a href=\"/genres/\">Genres</a></li>\n",
       "<li class=\"nl_link\"><a href=\"/franchises/\">Franchises</a></li>\n",
       "<li class=\"nl_link\"><a href=\"/showdowns/\">Showdowns</a></li>\n",
       "<li class=\"nl_link\"><a href=\"/oscar/\">Oscar</a></li>\n",
       "<li class=\"nl_link\"><a href=\"/counts/\">Theater Counts</a></li>\n",
       "</ul>\n",
       "</div>\n",
       "<div id=\"body\">\n",
       "<table border=\"0\" cellspacing=\"0\" width=\"878px\">\n",
       "<tr>\n",
       "<td align=\"right\" style=\"whitespace:nowrap;\">\n",
       "<table border=\"0\" cellpadding=\"0\" cellspacing=\"0\">\n",
       "<tr>\n",
       "<form action=\"/adjuster.php\" method=\"POST\" name=\"adjuster\">\n",
       "<input name=\"returnURL\" type=\"hidden\" value=\"/movies/?id=avengers11.htm\"/>\n",
       "<td valign=\"center\">\n",
       "<font face=\"Verdana\" size=\"2\"><a href=\"/about/adjuster.htm\"><b>Adjuster:</b></a></font>\n",
       "<select name=\"ticketyr\" size=\"1\" style=\"font-family: Verdana; font-size: 10pt\">\n",
       "<option selected=\"\" value=\"0\">Actuals</option>\n",
       "<option value=\"1\">Est. Tckts</option>\n",
       "<script language=\"javascript\">\n",
       "  for(i=2016; i>=1933; i--) {\n",
       "  \tdocument.write('<option value=\"' + i + '\"');\n",
       "\tif(i=='0') document.write(' selected');\n",
       "\tdocument.write('>' + i );\n",
       "\tif(i=='0') document.write(', $' + '0.00');\n",
       "\tdocument.write('</option>');\n",
       "  }\n",
       "</script>\n",
       "<option value=\"1929\">1929</option>\n",
       "<option value=\"1924\">1924</option>\n",
       "<option value=\"1910\">1910</option>\n",
       "</select><input name=\"Go\" style=\"font-size: 10pt; height: 22\" type=\"submit\" value=\"Go\"/>\n",
       "</td></form></tr></table>\n",
       "</td></tr>\n",
       "<!--------------------------Site Body---------------------------------->\n",
       "<tr>\n",
       "<table border=\"0\" cellpadding=\"0\" cellspacing=\"0\" width=\"100%\">\n",
       "<tr> <td valign=\"top\">\n",
       "<table border=\"0\" cellpadding=\"0\" cellspacing=\"0\" style=\"padding-top: 5px;\" width=\"100%\"><tr><td align=\"center\" valign=\"top\">\n",
       "<a href=\"/movies/?page=media&amp;id=avengers11.htm\"><img border=\"1\" src=\"http://ia.media-imdb.com/images/M/MV5BMTk2NTI1MTU4N15BMl5BanBnXkFtZTcwODg0OTY0Nw@@._V1_UY222_CR0,0,150,222_AL.jpg\" style=\"border-color: 000000\"/></a> </td>\n",
       "<td align=\"center\" valign=\"top\"><br/><font face=\"Verdana\" size=\"6\"><b>Marvel's The Avengers</b></font><br/><br/>\n",
       "<table border=\"0\" cellpadding=\"0\" cellspacing=\"0\"><tr><td>\n",
       "<center><table bgcolor=\"#dcdcdc\" border=\"0\" cellpadding=\"4\" cellspacing=\"1\" width=\"95%\"><tr bgcolor=\"#ffffff\"><td align=\"center\" colspan=\"2\"><font size=\"4\">Domestic Total Gross: <b>$623,357,910</b></font></td></tr><tr bgcolor=\"#ffffff\"><td valign=\"top\">Distributor: <b><a href=\"/studio/chart/?studio=buenavista.htm\">Buena Vista</a></b></td><td valign=\"top\">Release Date: <b><nobr><a href=\"/schedule/?view=bydate&amp;release=theatrical&amp;date=2012-05-04&amp;p=.htm\">May 4, 2012</a></nobr></b></td></tr><tr bgcolor=\"#ffffff\"><td valign=\"top\">Genre: <b>Action / Adventure</b></td><td valign=\"top\">Runtime: <b>2 hrs. 22 min.</b></td></tr><tr bgcolor=\"#ffffff\"><td valign=\"top\">MPAA Rating: <b>PG-13</b></td><td valign=\"top\">Production Budget: <b>$220 million</b></td></tr></table> </center></td>\n",
       "</tr></table></td>\n",
       "<td align=\"right\"><!-- begin ad tag (tile=2) -->\n",
       "<script type=\"text/javascript\">\n",
       "//<![CDATA[\n",
       "ord=1227239329;\n",
       "document.write('<iframe src=\"http://ad.doubleclick.net/N4215/adi/imdb2.bom.movie/;p=rh;tile=2;sz=300x250;oe=ISO-8859-1;ord=' + ord + '?\" width=\"300\" height=\"250\" marginwidth=\"0\" marginheight=\"0\" frameborder=\"0\" scrolling=\"no\">');\n",
       "\n",
       "if (navigator.userAgent.indexOf(\"Gecko\")==-1)\n",
       "{\n",
       "document.write('<script type=\"text/javascript\" src=\"http://ad.doubleclick.net/N4215/adj/imdb2.bom.movie/;p=rh;tile=2;sz=300x250;abr=!ie;oe=ISO-8859-1;ord=' + ord + '?\"><\\/script>');\n",
       "}\n",
       "document.write('</iframe>');\n",
       "//]]>\n",
       "</script>\n",
       "<noscript><a href=\"http://ad.doubleclick.net/N4215/jump/imdb2.bom.movie/;p=rh;tile=2;sz=300x250;oe=ISO-8859-1;ord=1227239329?\" target=\"_blank\"><img alt=\"\" border=\"0\" src=\"http://ad.doubleclick.net/N4215/ad/imdb2.bom.2/;p=rh;tile=2;sz=300x250;oe=ISO-8859-1;ord=1227239329?\"/></a></noscript>\n",
       "<!-- end ad tag --></td>\n",
       "</tr>\n",
       "</table>\n",
       "<table border=\"0\" cellpadding=\"0\" cellspacing=\"0\" width=\"878px\">\n",
       "<tr><td>\n",
       "<ul class=\"nav_tabs\">\n",
       "<li class=\"nav_tab_current\"><a href=\"/movies/?page=main&amp;id=avengers11.htm\">Summary</a></li>\n",
       "<li><a href=\"/movies/?page=daily&amp;id=avengers11.htm\">Daily</a></li>\n",
       "<li><a href=\"/movies/?page=weekend&amp;id=avengers11.htm\">Weekend</a></li>\n",
       "<li><a href=\"/movies/?page=weekly&amp;id=avengers11.htm\">Weekly</a></li>\n",
       "<li><a href=\"/movies/?page=intl&amp;id=avengers11.htm\">Foreign</a></li>\n",
       "<li><a href=\"/movies/?page=similar&amp;id=avengers11.htm\">Similar Movies</a></li>\n",
       "</ul>\n",
       "<br/>\n",
       "</td></tr>\n",
       "<tr><td>\n",
       "<table border=\"0\" cellpadding=\"0\" cellspacing=\"0\" width=\"100%\">\n",
       "<tr><td valign=\"top\" width=\"434px\">\n",
       "<table border=\"0\" cellpadding=\"0\" cellspacing=\"0\" width=\"100%\"><tr>\n",
       "<td valign=\"top\" width=\"50%\">\n",
       "<div class=\"mp_box\">\n",
       "<div class=\"mp_box_tab\">Total Lifetime Grosses</div>\n",
       "<div class=\"mp_box_content\">\n",
       "<table border=\"0\" cellpadding=\"0\" cellspacing=\"0\">\n",
       "<tr>\n",
       "<td width=\"40%\"><b>Domestic:</b></td>\n",
       "<td align=\"right\" width=\"35%\"> <b>$623,357,910</b></td>\n",
       "<td align=\"right\" width=\"25%\">   <b>41.0%</b></td>\n",
       "</tr>\n",
       "<tr>\n",
       "<td width=\"40%\">+ <a href=\"/movies/?page=intl&amp;id=avengers11.htm\">Foreign:</a></td>\n",
       "<td align=\"right\" width=\"35%\"> $896,200,000</td>\n",
       "<td align=\"right\" width=\"25%\">   59.0%</td>\n",
       "</tr>\n",
       "<tr>\n",
       "<td colspan=\"3\" width=\"100%\"><hr/></td>\n",
       "</tr>\n",
       "<tr>\n",
       "<td width=\"40%\">= <b>Worldwide:</b></td>\n",
       "<td align=\"right\" width=\"35%\"> <b>$1,519,557,910</b></td>\n",
       "<td width=\"25%\"> </td>\n",
       "</tr>\n",
       "</table>\n",
       "</div>\n",
       "</div>\n",
       "<div class=\"mp_box\">\n",
       "<div class=\"mp_box_tab\">Domestic Summary</div>\n",
       "<div class=\"mp_box_content\">\n",
       "<table border=\"0\" cellpadding=\"0\" cellspacing=\"0\">\n",
       "<tr>\n",
       "<td align=\"center\"><a href=\"/weekend/chart/?yr=2012&amp;wknd=18&amp;p=.htm\">Opening Weekend:</a></td><td> $207,438,708</td></tr>\n",
       "<tr>\n",
       "<td align=\"center\" colspan=\"2\"><font size=\"2\">(#1 rank, 4,349 theaters, $47,698 average)</font></td></tr>\n",
       "<tr>\n",
       "<td align=\"right\">% of Total Gross:</td><td> 33.3%</td></tr>\n",
       "<tr><td align=\"right\" colspan=\"2\"><font face=\"Helvetica, Arial, Sans-Serif\" size=\"1\"><a href=\"/movies/?page=weekend&amp;id=avengers11.htm\"><b>&gt; View All 22 Weekends</b></a></font></td></tr>\n",
       "</table>\n",
       "<table border=\"0\" cellpadding=\"0\" cellspacing=\"0\">\n",
       "<tr>\n",
       "<td>Widest Release:</td>\n",
       "<td> 4,349 theaters</td>\n",
       "</tr>\n",
       "</table>\n",
       "<table border=\"0\" cellpadding=\"0\" cellspacing=\"0\">\n",
       "<tr>\n",
       "<td>Close Date:</td>\n",
       "<td> October 4, 2012</td>\n",
       "</tr>\n",
       "</table>\n",
       "<table border=\"0\" cellpadding=\"0\" cellspacing=\"0\">\n",
       "<tr>\n",
       "<td>In Release:</td>\n",
       "<td> 154 days / 22 weeks</td>\n",
       "</tr>\n",
       "</table>\n",
       "</div>\n",
       "</div>\n",
       "</td>\n",
       "<td style=\"padding-left: 10px;\" valign=\"top\"><div class=\"mp_box\">\n",
       "<div class=\"mp_box_tab\">The Players</div>\n",
       "<div class=\"mp_box_content\">\n",
       "<table>\n",
       "<tr><td align=\"right\" valign=\"top\"><font size=\"2\"><a href=\"/people/?view=Director&amp;p=.htm\">Director:</a></font></td><td><font size=\"2\"><a href=\"/people/chart/?view=Director&amp;id=josswhedon.htm\">Joss Whedon</a></font></td></tr><tr><td align=\"right\" valign=\"top\"><font size=\"2\"><a href=\"/people/?view=Writer&amp;p=.htm\">Writers:</a></font></td><td><font size=\"2\"><a href=\"/people/chart/?view=Writer&amp;id=zakpenn.htm\">Zak Penn</a> <font size=\"2\">(story)</font><br/><a href=\"/people/chart/?view=Writer&amp;id=josswhedon.htm\">Joss Whedon</a></font></td></tr><tr><td align=\"right\" valign=\"top\"><font size=\"2\"><a href=\"/people/?view=Actor&amp;p=.htm\">Actors:</a></font></td><td><font size=\"2\"><a href=\"/people/chart/?view=Actor&amp;id=robertdowneyjr.htm\">Robert Downey, Jr.</a><br/><a href=\"/people/chart/?view=Actor&amp;id=chrishemsworth.htm\">Chris Hemsworth</a><br/><a href=\"/people/chart/?view=Actor&amp;id=chrisevans.htm\">Chris Evans</a><br/><a href=\"/people/chart/?view=Actor&amp;id=jeremyrenner.htm\">Jeremy Renner</a><br/><a href=\"/people/chart/?view=Actor&amp;id=markruffalo.htm\">Mark Ruffalo</a><br/><a href=\"/people/chart/?view=Actor&amp;id=scarlettjohansson.htm\">Scarlett Johansson</a><br/><a href=\"/people/chart/?view=Actor&amp;id=clarkgregg.htm\">Clark Gregg</a><br/><a href=\"/people/chart/?view=Actor&amp;id=samuelljackson.htm\">Samuel L. Jackson</a><br/>Cobie Smulders<br/><a href=\"/people/chart/?view=Actor&amp;id=tomhiddleston.htm\">Tom Hiddleston</a><br/><a href=\"/people/chart/?view=Actor&amp;id=stellanskarsgard.htm\">Stellan Skarsgard</a><br/><a href=\"/people/chart/?view=Actor&amp;id=gwynethpaltrow.htm\">Gwyneth Paltrow*</a><br/><a href=\"/people/chart/?view=Actor&amp;id=paulbettany.htm\">Paul Bettany*</a> <font size=\"2\">(Voice)</font></font></td></tr><tr><td align=\"right\" valign=\"top\"><font size=\"2\"><a href=\"/people/?view=Producer&amp;p=.htm\">Producers:</a></font></td><td><font size=\"2\"><a href=\"/people/chart/?view=Producer&amp;id=victoriaalonso.htm\">Victoria Alonso</a> <font size=\"2\">(executive)</font><br/><a href=\"/people/chart/?view=Producer&amp;id=louisdesposito.htm\">Louis D'Esposito</a> <font size=\"2\">(executive)</font><br/><a href=\"/people/chart/?view=Producer&amp;id=jonfavreau.htm\">Jon Favreau</a> <font size=\"2\">(executive)</font><br/><a href=\"/people/chart/?view=Producer&amp;id=kevinfeige.htm\">Kevin Feige</a><br/><a href=\"/people/chart/?view=Producer&amp;id=alanfine.htm\">Alan Fine</a> <font size=\"2\">(executive)</font><br/>Jeremy Latcham <font size=\"2\">(executive)</font><br/><a href=\"/people/chart/?view=Producer&amp;id=stanlee.htm\">Stan Lee</a> <font size=\"2\">(executive)</font><br/><a href=\"/people/chart/?view=Producer&amp;id=patriciawhitcher.htm\">Patricia Whitcher</a> <font size=\"2\">(executive)</font></font></td></tr><tr><td align=\"right\" valign=\"top\"><font size=\"2\"><a href=\"/people/?view=Composer&amp;p=.htm\">Composer:</a></font></td><td><font size=\"2\"><a href=\"/people/chart/?view=Composer&amp;id=alansilvestri.htm\">Alan Silvestri</a></font></td></tr><tr><td align=\"right\" colspan=\"2\"><i><small>* Denotes minor role</small></i></td></tr></table></div></div></td>\n",
       "</tr></table>\n",
       "<div class=\"mp_box\">\n",
       "<div class=\"mp_box_tab\">2012 Academy Awards®</div>\n",
       "<div class=\"mp_box_content\"><table border=\"0\" cellpadding=\"5\" cellspacing=\"0\" width=\"100%\"><tr><td><a href=\"/oscar/movies/?id=avengers11.htm\"><b>Nominated for One Oscar.</b><br/>View full award breakdown...</a></td></tr></table></div></div><div class=\"mp_box\">\n",
       "<div class=\"mp_box_tab\">Genres</div>\n",
       "<div class=\"mp_box_content\">\n",
       "<table border=\"0\" cellpadding=\"5\" cellspacing=\"1\" style=\"border-collapse: collapse\" width=\"100%\">\n",
       "<tr><th>Genre</th>\n",
       "<th>Rank</th></tr>\n",
       "<tr bgcolor=\"#ffffff\"><td><font size=\"2\"><a href=\"/genres/chart/?id=3d.htm\"><b>3D</b></a></font></td>\n",
       "<td align=\"center\"><font size=\"2\"><b>4</b></font></td>\n",
       "</tr>\n",
       "<tr bgcolor=\"#f4f4ff\"><td><font size=\"2\"><a href=\"/genres/chart/?id=comicbookadaptation.htm\"><b>Comic Book Adaptation</b></a></font></td>\n",
       "<td align=\"center\"><font size=\"2\"><b>1</b></font></td>\n",
       "</tr>\n",
       "<tr bgcolor=\"#ffffff\"><td><font size=\"2\"><a href=\"/genres/chart/?id=imax.htm\"><b>IMAX (Feature-length)</b></a></font></td>\n",
       "<td align=\"center\"><font size=\"2\"><b>4</b></font></td>\n",
       "</tr>\n",
       "<tr bgcolor=\"#f4f4ff\"><td><font size=\"2\"><a href=\"/genres/chart/?id=scifialieninvasion.htm\"><b>Sci-Fi - Alien Invasion</b></a></font></td>\n",
       "<td align=\"center\"><font size=\"2\"><b>1</b></font></td>\n",
       "</tr>\n",
       "<tr bgcolor=\"#ffffff\"><td><font size=\"2\"><a href=\"/genres/chart/?id=superhero.htm\"><b>Superhero</b></a></font></td>\n",
       "<td align=\"center\"><font size=\"2\"><b>1</b></font></td>\n",
       "</tr>\n",
       "</table>\n",
       "</div></div>\n",
       "<div class=\"mp_box\">\n",
       "<div class=\"mp_box_tab\">Franchises</div>\n",
       "<div class=\"mp_box_content\">\n",
       "<table border=\"0\" cellpadding=\"5\" cellspacing=\"1\" style=\"border-collapse: collapse\" width=\"100%\">\n",
       "<tr><th>Franchise</th>\n",
       "<th>Rank</th></tr>\n",
       "<tr bgcolor=\"#f4f4ff\"><td><font size=\"2\"><a href=\"/franchises/chart/?id=avengersfranchise.htm\"><b>Series: Avengers</b></a></font></td>\n",
       "<td align=\"center\"><font size=\"2\"><b>1</b></font></td>\n",
       "</tr>\n",
       "<tr bgcolor=\"#ffffff\"><td><font size=\"2\"><a href=\"/franchises/chart/?id=avengers.htm\"><b>Series: Marvel Cinematic Universe</b></a></font></td>\n",
       "<td align=\"center\"><font size=\"2\"><b>1</b></font></td>\n",
       "</tr>\n",
       "<tr bgcolor=\"#f4f4ff\"><td><font size=\"2\"><a href=\"/franchises/chart/?id=marvelcomics.htm\"><b>Brand: Marvel Comics</b></a></font></td>\n",
       "<td align=\"center\"><font size=\"2\"><b>1</b></font></td>\n",
       "</tr>\n",
       "<tr bgcolor=\"#ffffff\"><td><font size=\"2\"><a href=\"/showdowns/chart/?id=avengersironman.htm\"><b>Showdown: 'Avengers' Vs. 'Iron Man 3'</b></a></font></td>\n",
       "<td align=\"center\"><font size=\"2\"><b>1</b></font></td>\n",
       "</tr>\n",
       "<tr bgcolor=\"#f4f4ff\"><td><font size=\"2\"><a href=\"/showdowns/chart/?id=alltimegrossvs.htm\"><b>Showdown: All Time Grossers</b></a></font></td>\n",
       "<td align=\"center\"><font size=\"2\"><b>3</b></font></td>\n",
       "</tr>\n",
       "<tr bgcolor=\"#ffffff\"><td><font size=\"2\"><a href=\"/showdowns/chart/?id=usblockbuster.htm\"><b>Showdown: Avatar vs. Avengers vs. Jurassic World</b></a></font></td>\n",
       "<td align=\"center\"><font size=\"2\"><b>3</b></font></td>\n",
       "</tr>\n",
       "<tr bgcolor=\"#f4f4ff\"><td><font size=\"2\"><a href=\"/showdowns/chart/?id=avengersassemble.htm\"><b>Showdown: Avengers Assemble</b></a></font></td>\n",
       "<td align=\"center\"><font size=\"2\"><b>1</b></font></td>\n",
       "</tr>\n",
       "<tr bgcolor=\"#ffffff\"><td><font size=\"2\"><a href=\"/showdowns/chart/?id=topsuperhero.htm\"><b>Showdown: Blockbuster Superhero Showdown</b></a></font></td>\n",
       "<td align=\"center\"><font size=\"2\"><b>1</b></font></td>\n",
       "</tr>\n",
       "<tr bgcolor=\"#f4f4ff\"><td><font size=\"2\"><a href=\"/showdowns/chart/?id=liberge.htm\"><b>Showdown: King Size Domestic Grosses</b></a></font></td>\n",
       "<td align=\"center\"><font size=\"2\"><b>4</b></font></td>\n",
       "</tr>\n",
       "<tr bgcolor=\"#ffffff\"><td><font size=\"2\"><a href=\"/showdowns/chart/?id=vs-marvel.htm\"><b>Showdown: Marvel Comics Showdown</b></a></font></td>\n",
       "<td align=\"center\"><font size=\"2\"><b>1</b></font></td>\n",
       "</tr>\n",
       "<tr bgcolor=\"#f4f4ff\"><td><font size=\"2\"><a href=\"/showdowns/chart/?id=summerstartvs.htm\"><b>Showdown: Summer Starter Skirmish</b></a></font></td>\n",
       "<td align=\"center\"><font size=\"2\"><b>1</b></font></td>\n",
       "</tr>\n",
       "</table></div></div><div class=\"mp_box\">\n",
       "<div class=\"mp_box_tab\">Charts</div>\n",
       "<div class=\"mp_box_content\">\n",
       "<table border=\"0\" cellpadding=\"5\" cellspacing=\"1\" style=\"border-collapse: collapse\" width=\"100%\">\n",
       "<tr><td bgcolor=\"\"><b>Chart</b></td>\n",
       "<td align=\"center\"><b>Rank</b></td>\n",
       "</tr>\n",
       "<tr bgcolor=\"#ffffff\"><td><font size=\"2\"><a href=\"/alltime/domestic.htm\"><b>All Time Domestic</b></a></font></td>\n",
       "<td align=\"center\"><font size=\"2\"><b>5</b></font></td>\n",
       "</tr>\n",
       "<tr bgcolor=\"#f4f4ff\"><td><font size=\"2\"><a href=\"/alltime/adjusted.htm\">All Time Adjusted</a></font></td>\n",
       "<td align=\"center\"><font size=\"2\">29</font></td>\n",
       "</tr>\n",
       "<tr bgcolor=\"#ffffff\"><td><font size=\"2\"><a href=\"/alltime/world/\"><b>All Time Worldwide</b></a></font></td>\n",
       "<td align=\"center\"><font size=\"2\"><b>5</b></font></td>\n",
       "</tr>\n",
       "<tr bgcolor=\"#f4f4ff\"><td><font size=\"2\"><a href=\"/alltime/world/worldwideopenings.htm\"><b>Worldwide Openings</b></a></font></td>\n",
       "<td align=\"center\"><font size=\"2\"><b>6</b></font></td>\n",
       "</tr>\n",
       "<tr bgcolor=\"#ffffff\"><td><font size=\"2\"><a href=\"/intl/weekend/opening/\">Foreign Opening Weekends</a></font></td>\n",
       "<td align=\"center\"><font size=\"2\">16</font></td>\n",
       "</tr>\n",
       "<tr bgcolor=\"#f4f4ff\"><td><font size=\"2\"><a href=\"/alltime/openingweeks.htm\"><b>Opening Weeks</b></a></font></td>\n",
       "<td align=\"center\"><font size=\"2\"><b>3</b></font></td>\n",
       "</tr>\n",
       "<tr bgcolor=\"#ffffff\"><td><font size=\"2\"><a href=\"/alltime/days/?page=open&amp;p.htm\"><b>Opening Day Gross</b></a></font></td>\n",
       "<td align=\"center\"><font size=\"2\"><b>5</b></font></td>\n",
       "</tr>\n",
       "<tr bgcolor=\"#f4f4ff\"><td><font size=\"2\"><a href=\"/alltime/days/?page=single&amp;p=.htm\"><b>Single Day Gross</b></a></font></td>\n",
       "<td align=\"center\"><font size=\"2\"><b>5</b></font></td>\n",
       "</tr>\n",
       "<tr bgcolor=\"#ffffff\"><td><font size=\"2\"><a href=\"/alltime/days/nonopening.htm?page=Fri&amp;p=.htm\">Non-Opening Friday Gross</a></font></td>\n",
       "<td align=\"center\"><font size=\"2\">13</font></td>\n",
       "</tr>\n",
       "<tr bgcolor=\"#f4f4ff\"><td><font size=\"2\"><a href=\"/alltime/days/nonopening.htm?page=Thu&amp;p=.htm\">Non-Opening Thursday Gross</a></font></td>\n",
       "<td align=\"center\"><font size=\"2\">32</font></td>\n",
       "</tr>\n",
       "<tr bgcolor=\"#ffffff\"><td><font size=\"2\"><a href=\"/alltime/days/nonopening.htm?page=Tue&amp;p=.htm\"><b>Non-Opening Tuesday Gross</b></a></font></td>\n",
       "<td align=\"center\"><font size=\"2\"><b>7</b></font></td>\n",
       "</tr>\n",
       "<tr bgcolor=\"#f4f4ff\"><td><font size=\"2\"><a href=\"/alltime/days/nonopening.htm?page=Wed&amp;p=.htm\">Non-Opening Wednesday Gross</a></font></td>\n",
       "<td align=\"center\"><font size=\"2\">18</font></td>\n",
       "</tr>\n",
       "<tr bgcolor=\"#ffffff\"><td><font size=\"2\"><a href=\"/alltime/days/f-th.htm?page=Fri&amp;p=.htm\"><b>Single Day Friday Gross</b></a></font></td>\n",
       "<td align=\"center\"><font size=\"2\"><b>5</b></font></td>\n",
       "</tr>\n",
       "<tr bgcolor=\"#f4f4ff\"><td><font size=\"2\"><a href=\"/alltime/days/f-th.htm?page=Mon&amp;p=.htm\">Single Day Monday Gross</a></font></td>\n",
       "<td align=\"center\"><font size=\"2\">14</font></td>\n",
       "</tr>\n",
       "<tr bgcolor=\"#ffffff\"><td><font size=\"2\"><a href=\"/alltime/days/f-th.htm?page=Sat&amp;p=.htm\"><b>Single Day Saturday Gross</b></a></font></td>\n",
       "<td align=\"center\"><font size=\"2\"><b>2</b></font></td>\n",
       "</tr>\n",
       "<tr bgcolor=\"#f4f4ff\"><td><font size=\"2\"><a href=\"/alltime/days/f-th.htm?page=Sun&amp;p=.htm\"><b>Single Day Sunday Gross</b></a></font></td>\n",
       "<td align=\"center\"><font size=\"2\"><b>3</b></font></td>\n",
       "</tr>\n",
       "<tr bgcolor=\"#ffffff\"><td><font size=\"2\"><a href=\"/alltime/days/f-th.htm?page=Thu&amp;p=.htm\">Single Day Thursday Gross</a></font></td>\n",
       "<td align=\"center\"><font size=\"2\">44</font></td>\n",
       "</tr>\n",
       "<tr bgcolor=\"#f4f4ff\"><td><font size=\"2\"><a href=\"/alltime/days/f-th.htm?page=Tue&amp;p=.htm\"><b>Single Day Tuesday Gross</b></a></font></td>\n",
       "<td align=\"center\"><font size=\"2\"><b>10</b></font></td>\n",
       "</tr>\n",
       "<tr bgcolor=\"#ffffff\"><td><font size=\"2\"><a href=\"/alltime/days/f-th.htm?page=Wed&amp;p=.htm\">Single Day Wednesday Gross</a></font></td>\n",
       "<td align=\"center\"><font size=\"2\">42</font></td>\n",
       "</tr>\n",
       "<tr bgcolor=\"#f4f4ff\"><td><font size=\"2\"><a href=\"/alltime/days/nonholiday.htm\"><b>Non-Holiday Monday Gross</b></a></font></td>\n",
       "<td align=\"center\"><font size=\"2\"><b>7</b></font></td>\n",
       "</tr>\n",
       "<tr bgcolor=\"#ffffff\"><td><font size=\"2\"><a href=\"/alltime/weekends/theateravg.htm?page=THTRWAVG&amp;p=.htm\"><b>Theater Averages (Wide Releases) - All Time</b></a></font></td>\n",
       "<td align=\"center\"><font size=\"2\"><b>3</b></font></td>\n",
       "</tr>\n",
       "<tr bgcolor=\"#f4f4ff\"><td><font size=\"2\"><a href=\"/alltime/weekends/theateravg.htm?page=THTRWAVG&amp;p=.htm\">Theater Averages (Wide Releases) - All Time</a></font></td>\n",
       "<td align=\"center\"><font size=\"2\">53</font></td>\n",
       "</tr>\n",
       "<tr bgcolor=\"#ffffff\"><td><font size=\"2\"><a href=\"/alltime/weekends/theateravg.htm?page=THTRAVG&amp;p=.htm\">Theater Averages - All Time Adjusted</a></font></td>\n",
       "<td align=\"center\"><font size=\"2\">150</font></td>\n",
       "</tr>\n",
       "<tr bgcolor=\"#f4f4ff\"><td><font size=\"2\"><a href=\"/alltime/weekends/theateravg.htm?page=THTRAVOPN&amp;p=.htm\">Theater Averages - Opening Weekends</a></font></td>\n",
       "<td align=\"center\"><font size=\"2\">116</font></td>\n",
       "</tr>\n",
       "<tr bgcolor=\"#ffffff\"><td><font size=\"2\"><a href=\"/alltime/weekends/theateravg.htm?page=THTRAWOPN&amp;p=.htm\"><b>Theater Averages - Wide Opening Weekends</b></a></font></td>\n",
       "<td align=\"center\"><font size=\"2\"><b>3</b></font></td>\n",
       "</tr>\n",
       "<tr bgcolor=\"#f4f4ff\"><td><font size=\"2\"><a href=\"/alltime/weekends/summerstarts.htm\"><b>Summer Starts</b></a></font></td>\n",
       "<td align=\"center\"><font size=\"2\"><b>1</b></font></td>\n",
       "</tr>\n",
       "<tr bgcolor=\"#ffffff\"><td><font size=\"2\"><a href=\"/alltime/weekends/\"><b>Opening Weekends</b></a></font></td>\n",
       "<td align=\"center\"><font size=\"2\"><b>3</b></font></td>\n",
       "</tr>\n",
       "<tr bgcolor=\"#f4f4ff\"><td><font size=\"2\"><a href=\"/alltime/weekends/month/?mo=05&amp;p=.htm\"><b>Opening Weekends - May</b></a></font></td>\n",
       "<td align=\"center\"><font size=\"2\"><b>1</b></font></td>\n",
       "</tr>\n",
       "<tr bgcolor=\"#ffffff\"><td><font size=\"2\"><a href=\"/alltime/weekends/byseason.htm?season=Summer&amp;p=.htm\"><b>Opening Weekends - Summer</b></a></font></td>\n",
       "<td align=\"center\"><font size=\"2\"><b>2</b></font></td>\n",
       "</tr>\n",
       "<tr bgcolor=\"#f4f4ff\"><td><font size=\"2\"><a href=\"/alltime/weekends/moreweekends.htm?page=11&amp;p=.htm\">Eleventh Weekends</a></font></td>\n",
       "<td align=\"center\"><font size=\"2\">136</font></td>\n",
       "</tr>\n",
       "<tr bgcolor=\"#ffffff\"><td><font size=\"2\"><a href=\"/alltime/weekends/moreweekends.htm?page=9&amp;p=.htm\">Ninth Weekends</a></font></td>\n",
       "<td align=\"center\"><font size=\"2\">45</font></td>\n",
       "</tr>\n",
       "<tr bgcolor=\"#f4f4ff\"><td><font size=\"2\"><a href=\"/alltime/weekends/moreweekends.htm?page=10&amp;p=.htm\">Tenth Weekends</a></font></td>\n",
       "<td align=\"center\"><font size=\"2\">118</font></td>\n",
       "</tr>\n",
       "<tr bgcolor=\"#ffffff\"><td><font size=\"2\"><a href=\"/alltime/grossbydays.htm?days=10&amp;p=.htm\"><b>Top 10-Day Grosses</b></a></font></td>\n",
       "<td align=\"center\"><font size=\"2\"><b>3</b></font></td>\n",
       "</tr>\n",
       "<tr bgcolor=\"#f4f4ff\"><td><font size=\"2\"><a href=\"/alltime/grossbydays.htm?days=3&amp;p=.htm\"><b>Top 3-Day Grosses</b></a></font></td>\n",
       "<td align=\"center\"><font size=\"2\"><b>3</b></font></td>\n",
       "</tr>\n",
       "<tr bgcolor=\"#ffffff\"><td><font size=\"2\"><a href=\"/alltime/grossbydays.htm?days=4&amp;p=.htm\"><b>Top 4-Day Grosses</b></a></font></td>\n",
       "<td align=\"center\"><font size=\"2\"><b>3</b></font></td>\n",
       "</tr>\n",
       "<tr bgcolor=\"#f4f4ff\"><td><font size=\"2\"><a href=\"/alltime/grossbydays.htm?days=6&amp;p=.htm\"><b>Top 6-Day Grosses</b></a></font></td>\n",
       "<td align=\"center\"><font size=\"2\"><b>3</b></font></td>\n",
       "</tr>\n",
       "<tr bgcolor=\"#ffffff\"><td><font size=\"2\"><a href=\"/alltime/grossbydays.htm?days=7&amp;p=.htm\"><b>Top 7-Day Grosses</b></a></font></td>\n",
       "<td align=\"center\"><font size=\"2\"><b>3</b></font></td>\n",
       "</tr>\n",
       "<tr bgcolor=\"#f4f4ff\"><td><font size=\"2\"><a href=\"/alltime/grossbydays.htm?days=8&amp;p=.htm\"><b>Top 8-Day Grosses</b></a></font></td>\n",
       "<td align=\"center\"><font size=\"2\"><b>3</b></font></td>\n",
       "</tr>\n",
       "<tr bgcolor=\"#ffffff\"><td><font size=\"2\"><a href=\"/alltime/grossbydays.htm?days=9&amp;p=.htm\"><b>Top 9-Day Grosses</b></a></font></td>\n",
       "<td align=\"center\"><font size=\"2\"><b>3</b></font></td>\n",
       "</tr>\n",
       "<tr bgcolor=\"#f4f4ff\"><td><font size=\"2\"><a href=\"/alltime/grossbydays.htm?days=5&amp;p=.htm\"><b>Top 5-Day Grosses</b></a></font></td>\n",
       "<td align=\"center\"><font size=\"2\"><b>3</b></font></td>\n",
       "</tr>\n",
       "<tr bgcolor=\"#ffffff\"><td><font size=\"2\"><a href=\"/alltime/weekends/bestranked.htm?page=WKNDSAT1&amp;p=.htm\">Most Weekends at #1 (non-consecutive)</a></font></td>\n",
       "<td align=\"center\"><font size=\"2\">79</font></td>\n",
       "</tr>\n",
       "<tr bgcolor=\"#f4f4ff\"><td><font size=\"2\"><a href=\"/alltime/weekends/bestranked.htm?page=WKNDSCAT1&amp;p=.htm\">Consecutive Weekends At #1</a></font></td>\n",
       "<td align=\"center\"><font size=\"2\">62</font></td>\n",
       "</tr>\n",
       "<tr bgcolor=\"#ffffff\"><td><font size=\"2\"><a href=\"/alltime/weekends/md.htm?page=MEMDAY&amp;p=.htm\">Memorial Day 4-Day Holiday Weekends</a></font></td>\n",
       "<td align=\"center\"><font size=\"2\">29</font></td>\n",
       "</tr>\n",
       "<tr bgcolor=\"#f4f4ff\"><td><font size=\"2\"><a href=\"/alltime/weekends/moreweekends.htm?page=2&amp;p=.htm\"><b>Second Weekends</b></a></font></td>\n",
       "<td align=\"center\"><font size=\"2\"><b>3</b></font></td>\n",
       "</tr>\n",
       "<tr bgcolor=\"#ffffff\"><td><font size=\"2\"><a href=\"/alltime/weekends/moreweekends.htm?page=3&amp;p=.htm\"><b>Third Weekends</b></a></font></td>\n",
       "<td align=\"center\"><font size=\"2\"><b>3</b></font></td>\n",
       "</tr>\n",
       "<tr bgcolor=\"#f4f4ff\"><td><font size=\"2\"><a href=\"/alltime/weekends/moreweekends.htm?page=4&amp;p=.htm\"><b>Fourth Weekends</b></a></font></td>\n",
       "<td align=\"center\"><font size=\"2\"><b>3</b></font></td>\n",
       "</tr>\n",
       "<tr bgcolor=\"#ffffff\"><td><font size=\"2\"><a href=\"/alltime/weekends/moreweekends.htm?page=5&amp;p=.htm\"><b>Fifth Weekends</b></a></font></td>\n",
       "<td align=\"center\"><font size=\"2\"><b>6</b></font></td>\n",
       "</tr>\n",
       "<tr bgcolor=\"#f4f4ff\"><td><font size=\"2\"><a href=\"/alltime/weekends/moreweekends.htm?page=6&amp;p=.htm\">Sixth Weekends</a></font></td>\n",
       "<td align=\"center\"><font size=\"2\">17</font></td>\n",
       "</tr>\n",
       "<tr bgcolor=\"#ffffff\"><td><font size=\"2\"><a href=\"/alltime/weekends/moreweekends.htm?page=7&amp;p=.htm\">Seventh Weekends</a></font></td>\n",
       "<td align=\"center\"><font size=\"2\">14</font></td>\n",
       "</tr>\n",
       "<tr bgcolor=\"#f4f4ff\"><td><font size=\"2\"><a href=\"/alltime/weekends/moreweekends.htm?page=8&amp;p=.htm\">Eighth Weekends</a></font></td>\n",
       "<td align=\"center\"><font size=\"2\">21</font></td>\n",
       "</tr>\n",
       "<tr bgcolor=\"#ffffff\"><td><font size=\"2\"><a href=\"/alltime/weekends/smallestdrops.htm?page=DROP3000&amp;p=.htm\">Smallest Drops, 3,000+ theaters (Super-Saturation)</a></font></td>\n",
       "<td align=\"center\"><font size=\"2\">460</font></td>\n",
       "</tr>\n",
       "<tr bgcolor=\"#f4f4ff\"><td><font size=\"2\"><a href=\"/alltime/weekends/smallestdrops.htm?page=SMALLDROP25&amp;p=.htm\">Smallest Drops, 2,500+ theaters (Saturation)</a></font></td>\n",
       "<td align=\"center\"><font size=\"2\">929</font></td>\n",
       "</tr>\n",
       "<tr bgcolor=\"#ffffff\"><td><font size=\"2\"><a href=\"/alltime/weekends/smallestdrops.htm?page=SMALLDROP20&amp;p=.htm\">Smallest Drops, 2,000+ theaters (Very Wide)</a></font></td>\n",
       "<td align=\"center\"><font size=\"2\">1,323</font></td>\n",
       "</tr>\n",
       "<tr bgcolor=\"#f4f4ff\"><td><font size=\"2\"><a href=\"/alltime/weekends/smallestdrops.htm?page=SMALLDROPWID&amp;p=.htm\">Smallest Drops, All Wide Releases</a></font></td>\n",
       "<td align=\"center\"><font size=\"2\">2,899</font></td>\n",
       "</tr>\n",
       "<tr bgcolor=\"#ffffff\"><td><font size=\"2\"><a href=\"/alltime/domestic/mpaa.htm?page=PG-13&amp;p=.htm\"><b>Rated PG-13</b></a></font></td>\n",
       "<td align=\"center\"><font size=\"2\"><b>5</b></font></td>\n",
       "</tr>\n",
       "<tr bgcolor=\"#f4f4ff\"><td><font size=\"2\"><a href=\"/alltime/weekends/mpaa.htm?page=PG-13&amp;p=.htm\"><b>Rated PG-13, Opening Weekends</b></a></font></td>\n",
       "<td align=\"center\"><font size=\"2\"><b>3</b></font></td>\n",
       "</tr>\n",
       "<tr bgcolor=\"#ffffff\"><td><font size=\"2\"><a href=\"/alltime/widest.htm?page=WIDEST&amp;p=.htm\"><b>Widest Releases</b></a></font></td>\n",
       "<td align=\"center\"><font size=\"2\"><b>9</b></font></td>\n",
       "</tr>\n",
       "<tr bgcolor=\"#f4f4ff\"><td><font size=\"2\"><a href=\"/alltime/widest.htm?page=WIDESTOPEN&amp;p=.htm\"><b>Widest Opening Releases</b></a></font></td>\n",
       "<td align=\"center\"><font size=\"2\"><b>8</b></font></td>\n",
       "</tr>\n",
       "<tr bgcolor=\"#ffffff\"><td><font size=\"2\"><a href=\"/alltime/widestmpaa.htm?page=PG-13&amp;p=.htm\"><b>Widest PG-13 Rated Openings</b></a></font></td>\n",
       "<td align=\"center\"><font size=\"2\"><b>7</b></font></td>\n",
       "</tr>\n",
       "<tr bgcolor=\"#f4f4ff\"><td><font size=\"2\"><a href=\"/alltime/widestmpaareleases.htm?page=PG-13&amp;p=.htm\"><b>Widest PG-13 Rated Releases</b></a></font></td>\n",
       "<td align=\"center\"><font size=\"2\"><b>7</b></font></td>\n",
       "</tr>\n",
       "<tr bgcolor=\"#ffffff\"><td><font size=\"2\"><a href=\"/alltime/fastest.htm?page=100&amp;p=.htm\"><b>Fastest to $100 million</b></a></font></td>\n",
       "<td align=\"center\"><font size=\"2\"><b>3</b></font></td>\n",
       "</tr>\n",
       "<tr bgcolor=\"#f4f4ff\"><td><font size=\"2\"><a href=\"/alltime/fastest.htm?page=150&amp;p=.htm\"><b>Fastest to $150 million</b></a></font></td>\n",
       "<td align=\"center\"><font size=\"2\"><b>3</b></font></td>\n",
       "</tr>\n",
       "<tr bgcolor=\"#ffffff\"><td><font size=\"2\"><a href=\"/alltime/fastest.htm?page=200&amp;p=.htm\"><b>Fastest to $200 million</b></a></font></td>\n",
       "<td align=\"center\"><font size=\"2\"><b>3</b></font></td>\n",
       "</tr>\n",
       "<tr bgcolor=\"#f4f4ff\"><td><font size=\"2\"><a href=\"/alltime/fastest.htm?page=250&amp;p=.htm\"><b>Fastest to $250 million</b></a></font></td>\n",
       "<td align=\"center\"><font size=\"2\"><b>3</b></font></td>\n",
       "</tr>\n",
       "<tr bgcolor=\"#ffffff\"><td><font size=\"2\"><a href=\"/alltime/fastest.htm?page=300&amp;p=.htm\"><b>Fastest to $300 million</b></a></font></td>\n",
       "<td align=\"center\"><font size=\"2\"><b>3</b></font></td>\n",
       "</tr>\n",
       "<tr bgcolor=\"#f4f4ff\"><td><font size=\"2\"><a href=\"/alltime/fastest.htm?page=350&amp;p=.htm\"><b>Fastest to $350 million</b></a></font></td>\n",
       "<td align=\"center\"><font size=\"2\"><b>3</b></font></td>\n",
       "</tr>\n",
       "<tr bgcolor=\"#ffffff\"><td><font size=\"2\"><a href=\"/alltime/fastest.htm?page=400&amp;p=.htm\"><b>Fastest to $400 million</b></a></font></td>\n",
       "<td align=\"center\"><font size=\"2\"><b>3</b></font></td>\n",
       "</tr>\n",
       "<tr bgcolor=\"#f4f4ff\"><td><font size=\"2\"><a href=\"/alltime/fastest.htm?page=450&amp;p=.htm\"><b>Fastest to $450 million</b></a></font></td>\n",
       "<td align=\"center\"><font size=\"2\"><b>3</b></font></td>\n",
       "</tr>\n",
       "<tr bgcolor=\"#ffffff\"><td><font size=\"2\"><a href=\"/alltime/fastest.htm?page=500&amp;p=.htm\"><b>Fastest to $500 million</b></a></font></td>\n",
       "<td align=\"center\"><font size=\"2\"><b>3</b></font></td>\n",
       "</tr>\n",
       "<tr bgcolor=\"#f4f4ff\"><td><font size=\"2\"><a href=\"/alltime/slowest.htm?page=100&amp;p=.htm\">Slowest to $100 million</a></font></td>\n",
       "<td align=\"center\"><font size=\"2\">596</font></td>\n",
       "</tr>\n",
       "<tr bgcolor=\"#ffffff\"><td><font size=\"2\"><a href=\"/alltime/slowest.htm?page=200&amp;p=.htm\">Slowest to $200 million</a></font></td>\n",
       "<td align=\"center\"><font size=\"2\">155</font></td>\n",
       "</tr>\n",
       "<tr><td><b>Charts (Premier Pass Users Only)</b></td><td align=\"center\"><b>Rank</b></td></tr><tr bgcolor=\"#ffffff\"><td><font size=\"2\"><a href=\"/alltime/domestic.htm?page=1&amp;asof=2012-06-03&amp;p=.htm\">Highest All Time Rank (on June 3, 2012)</a></font></td>\n",
       "<td align=\"center\"><font size=\"2\">3</font></td>\n",
       "</tr>\n",
       "<tr bgcolor=\"#f4f4ff\"><td><font size=\"2\"><a href=\"/alltime/openingweeks.htm?adjust_yr=2016&amp;p=.htm\"><b>Opening Weeks Adjusted</b></a></font></td>\n",
       "<td align=\"center\"><font size=\"2\"><b>3</b></font></td>\n",
       "</tr>\n",
       "<tr bgcolor=\"#ffffff\"><td><font size=\"2\"><a href=\"/alltime/days/nonopening.htm?page=Fri&amp;adjust_yr=2016&amp;p=.htm\">Non-Opening Friday Gross Adjusted</a></font></td>\n",
       "<td align=\"center\"><font size=\"2\">24</font></td>\n",
       "</tr>\n",
       "<tr bgcolor=\"#f4f4ff\"><td><font size=\"2\"><a href=\"/alltime/days/nonopening.htm?page=Thu&amp;adjust_yr=2016&amp;p=.htm\">Non-Opening Thursday Gross Adjusted</a></font></td>\n",
       "<td align=\"center\"><font size=\"2\">61</font></td>\n",
       "</tr>\n",
       "<tr bgcolor=\"#ffffff\"><td><font size=\"2\"><a href=\"/alltime/days/nonopening.htm?page=Tue&amp;adjust_yr=2016&amp;p=.htm\"><b>Non-Opening Tuesday Gross Adjusted</b></a></font></td>\n",
       "<td align=\"center\"><font size=\"2\"><b>8</b></font></td>\n",
       "</tr>\n",
       "<tr bgcolor=\"#f4f4ff\"><td><font size=\"2\"><a href=\"/alltime/days/nonopening.htm?page=Wed&amp;adjust_yr=2016&amp;p=.htm\">Non-Opening Wednesday Gross Adjusted</a></font></td>\n",
       "<td align=\"center\"><font size=\"2\">30</font></td>\n",
       "</tr>\n",
       "<tr bgcolor=\"#ffffff\"><td><font size=\"2\"><a href=\"/alltime/days/f-th.htm?page=Fri&amp;adjust_yr=2016&amp;p=.htm\"><b>Single Day Friday Gross Adjusted</b></a></font></td>\n",
       "<td align=\"center\"><font size=\"2\"><b>3</b></font></td>\n",
       "</tr>\n",
       "<tr bgcolor=\"#f4f4ff\"><td><font size=\"2\"><a href=\"/alltime/days/f-th.htm?page=Mon&amp;adjust_yr=2016&amp;p=.htm\">Single Day Monday Gross Adjusted</a></font></td>\n",
       "<td align=\"center\"><font size=\"2\">26</font></td>\n",
       "</tr>\n",
       "<tr bgcolor=\"#ffffff\"><td><font size=\"2\"><a href=\"/alltime/days/f-th.htm?page=Sat&amp;adjust_yr=2016&amp;p=.htm\"><b>Single Day Saturday Gross Adjusted</b></a></font></td>\n",
       "<td align=\"center\"><font size=\"2\"><b>1</b></font></td>\n",
       "</tr>\n",
       "<tr bgcolor=\"#f4f4ff\"><td><font size=\"2\"><a href=\"/alltime/days/f-th.htm?page=Sun&amp;adjust_yr=2016&amp;p=.htm\"><b>Single Day Sunday Gross Adjusted</b></a></font></td>\n",
       "<td align=\"center\"><font size=\"2\"><b>1</b></font></td>\n",
       "</tr>\n",
       "<tr bgcolor=\"#ffffff\"><td><font size=\"2\"><a href=\"/alltime/days/f-th.htm?page=Thu&amp;adjust_yr=2016&amp;p=.htm\">Single Day Thursday Gross Adjusted</a></font></td>\n",
       "<td align=\"center\"><font size=\"2\">74</font></td>\n",
       "</tr>\n",
       "<tr bgcolor=\"#f4f4ff\"><td><font size=\"2\"><a href=\"/alltime/days/f-th.htm?page=Tue&amp;adjust_yr=2016&amp;p=.htm\">Single Day Tuesday Gross Adjusted</a></font></td>\n",
       "<td align=\"center\"><font size=\"2\">12</font></td>\n",
       "</tr>\n",
       "<tr bgcolor=\"#ffffff\"><td><font size=\"2\"><a href=\"/alltime/days/f-th.htm?page=Wed&amp;adjust_yr=2016&amp;p=.htm\">Single Day Wednesday Gross Adjusted</a></font></td>\n",
       "<td align=\"center\"><font size=\"2\">68</font></td>\n",
       "</tr>\n",
       "<tr bgcolor=\"#f4f4ff\"><td><font size=\"2\"><a href=\"/alltime/wekeends/theateravg.htm?page=THTRWAVGADJ&amp;adjust_yr=2016&amp;p=.htm\">Theater Averages (Wide Releases) - All Time Adjusted</a></font></td>\n",
       "<td align=\"center\"><font size=\"2\">141</font></td>\n",
       "</tr>\n",
       "<tr bgcolor=\"#ffffff\"><td><font size=\"2\"><a href=\"/alltime/wekeends/theateravg.htm?page=THTRWAVGADJ&amp;adjust_yr=2016&amp;p=.htm\"><b>Theater Averages (Wide Releases) - All Time Adjusted</b></a></font></td>\n",
       "<td align=\"center\"><font size=\"2\"><b>5</b></font></td>\n",
       "</tr>\n",
       "<tr bgcolor=\"#f4f4ff\"><td><font size=\"2\"><a href=\"/alltime/weekends/theateravg.htm?page=THTRAWOPNADJ&amp;adjust_yr=2016&amp;p=.htm\"><b>Theater Averages - Wide Opening Weekends Adjusted</b></a></font></td>\n",
       "<td align=\"center\"><font size=\"2\"><b>5</b></font></td>\n",
       "</tr>\n",
       "<tr bgcolor=\"#ffffff\"><td><font size=\"2\"><a href=\"/alltime/weekends/month/?mo=05&amp;adjust_yr=2016&amp;p=.htm\"><b>Opening Weekends Adjusted - May</b></a></font></td>\n",
       "<td align=\"center\"><font size=\"2\"><b>1</b></font></td>\n",
       "</tr>\n",
       "<tr bgcolor=\"#f4f4ff\"><td><font size=\"2\"><a href=\"/alltime/weekends/?adjust_yr=2016&amp;p=.htm\"><b>Opening Weekends Adjusted</b></a></font></td>\n",
       "<td align=\"center\"><font size=\"2\"><b>2</b></font></td>\n",
       "</tr>\n",
       "<tr bgcolor=\"#ffffff\"><td><font size=\"2\"><a href=\"/alltime/weekends/byseason.htm?season=Summer&amp;adjust_yr=2016&amp;p=.htm\"><b>Opening Weekends Adjusted - Summer</b></a></font></td>\n",
       "<td align=\"center\"><font size=\"2\"><b>1</b></font></td>\n",
       "</tr>\n",
       "<tr bgcolor=\"#f4f4ff\"><td><font size=\"2\"><a href=\"/alltime/weekends/moreweeknds.htm?page=9&amp;adjust_yr=2016&amp;p=.htm\">Ninth Weekends Adjusted</a></font></td>\n",
       "<td align=\"center\"><font size=\"2\">125</font></td>\n",
       "</tr>\n",
       "<tr bgcolor=\"#ffffff\"><td><font size=\"2\"><a href=\"/alltime/weekends/moreweeknds.htm?page=2&amp;adjust_yr=2016&amp;p=.htm\"><b>Second Weekends Adjusted</b></a></font></td>\n",
       "<td align=\"center\"><font size=\"2\"><b>3</b></font></td>\n",
       "</tr>\n",
       "<tr bgcolor=\"#f4f4ff\"><td><font size=\"2\"><a href=\"/alltime/weekends/moreweeknds.htm?page=3&amp;adjust_yr=2016&amp;p=.htm\"><b>Third Weekends Adjusted</b></a></font></td>\n",
       "<td align=\"center\"><font size=\"2\"><b>5</b></font></td>\n",
       "</tr>\n",
       "<tr bgcolor=\"#ffffff\"><td><font size=\"2\"><a href=\"/alltime/weekends/moreweeknds.htm?page=4&amp;adjust_yr=2016&amp;p=.htm\"><b>Fourth Weekends Adjusted</b></a></font></td>\n",
       "<td align=\"center\"><font size=\"2\"><b>7</b></font></td>\n",
       "</tr>\n",
       "<tr bgcolor=\"#f4f4ff\"><td><font size=\"2\"><a href=\"/alltime/weekends/moreweeknds.htm?page=5&amp;adjust_yr=2016&amp;p=.htm\">Fifth Weekends Adjusted</a></font></td>\n",
       "<td align=\"center\"><font size=\"2\">27</font></td>\n",
       "</tr>\n",
       "<tr bgcolor=\"#ffffff\"><td><font size=\"2\"><a href=\"/alltime/weekends/moreweeknds.htm?page=6&amp;adjust_yr=2016&amp;p=.htm\">Sixth Weekends Adjusted</a></font></td>\n",
       "<td align=\"center\"><font size=\"2\">88</font></td>\n",
       "</tr>\n",
       "<tr bgcolor=\"#f4f4ff\"><td><font size=\"2\"><a href=\"/alltime/weekends/moreweeknds.htm?page=7&amp;adjust_yr=2016&amp;p=.htm\">Seventh Weekends Adjusted</a></font></td>\n",
       "<td align=\"center\"><font size=\"2\">85</font></td>\n",
       "</tr>\n",
       "<tr bgcolor=\"#ffffff\"><td><font size=\"2\"><a href=\"/alltime/weekends/moreweeknds.htm?page=8&amp;adjust_yr=2016&amp;p=.htm\">Eighth Weekends Adjusted</a></font></td>\n",
       "<td align=\"center\"><font size=\"2\">84</font></td>\n",
       "</tr>\n",
       "<tr bgcolor=\"#f4f4ff\"><td><font size=\"2\"><a href=\"/alltime/domestic/mpaa.htm?page=PG-13&amp;adjust_yr=2016&amp;p=.htm\"><b>Rated PG-13 Adjusted</b></a></font></td>\n",
       "<td align=\"center\"><font size=\"2\"><b>7</b></font></td>\n",
       "</tr>\n",
       "<tr bgcolor=\"#ffffff\"><td><font size=\"2\"><a href=\"/alltime/weekends/mpaa.htm?page=PG-13&amp;adjust_yr==.htm\"><b>Rated PG-13, Opening Weekends Adjusted</b></a></font></td>\n",
       "<td align=\"center\"><font size=\"2\"><b>2</b></font></td>\n",
       "</tr>\n",
       "</table></div></div>\n",
       "</td>\n",
       "<td width=\"10px\"> </td>\n",
       "<td valign=\"top\" width=\"434px\">\n",
       "<div class=\"mp_box\">\n",
       "<div class=\"mp_box_tab\">Related Stories</div>\n",
       "<div class=\"mp_box_content\"><table border=\"0\" cellpadding=\"5\" cellspacing=\"0\" width=\"100%\"><tr bgcolor=\"#ffff99\"><td><font size=\"2\"><a href=\"/news/?id=3595&amp;p=.htm\">12/28/12 Domestic Box Office Sets New Yearly Record in 2012</a></font></td></tr><tr bgcolor=\"#f4f4ff\"><td><font size=\"2\"><a href=\"/news/?id=3514&amp;p=.htm\">9/4/12 Around-the-World Roundup: 'Dark Knight Rises' Joins Billionaire Club</a></font></td></tr><tr bgcolor=\"#ffffff\"><td><font size=\"2\"><a href=\"/news/?id=3505&amp;p=.htm\">8/20/12 Around-the-World Roundup: 'Dark Knight Rises' Passes 'Dark Knight' Overseas</a></font></td></tr><tr bgcolor=\"#f4f4ff\"><td><font size=\"2\"><a href=\"/news/?id=3470&amp;p=.htm\">6/26/12 'The Avengers' Hits $600 Million</a></font></td></tr><tr bgcolor=\"#ffffff\"><td><font size=\"2\"><a href=\"/news/?id=3465&amp;p=.htm\">6/17/12 Weekend Report: Circus Afros Beat 80s Hairdos</a></font></td></tr><tr bgcolor=\"#f4f4ff\"><td><font size=\"2\"><a href=\"/news/?id=3464&amp;p=.htm\">6/16/12 Friday Report: 'Madagascar 3' Holds Off Weak Openers</a></font></td></tr><tr bgcolor=\"#ffffff\"><td><font size=\"2\"><a href=\"/news/?id=3461&amp;p=.htm\">6/10/12 Weekend Report: 'Madagascar' Breaks Out, 'Prometheus' Catches Fire</a></font></td></tr><tr bgcolor=\"#f4f4ff\"><td><font size=\"2\"><a href=\"/news/?id=3460&amp;p=.htm\">6/9/12 Friday Report: 'Prometheus,' 'Madagascar 3' in Close Race</a></font></td></tr><tr bgcolor=\"#ffffff\"><td><font size=\"2\"><a href=\"/news/?id=3457&amp;p=.htm\">6/5/12 Around-the-World Roundup: 'MIB 3' Leads Again, 'Prometheus' Opens Strong</a></font></td></tr><tr bgcolor=\"#f4f4ff\"><td><font size=\"2\"><a href=\"/news/?id=3455&amp;p=.htm\">6/3/12 Weekend Report: 'Snow White' Takes Big Bite Out of Box Office Apple</a></font></td></tr><tr bgcolor=\"#ffffff\"><td><font size=\"2\"><a href=\"/news/?id=3454&amp;p=.htm\">6/2/12 Friday Report: 'Snow White' Conquers the Box Office</a></font></td></tr><tr bgcolor=\"#f4f4ff\"><td><font size=\"2\"><a href=\"/news/?id=3453&amp;p=.htm\">6/1/12 'Avengers' Accounts for Over Half of May 2012 Grosses</a></font></td></tr><tr bgcolor=\"#ffffff\"><td><font size=\"2\"><a href=\"/news/?id=3450&amp;p=.htm\">5/29/12 Around-the-World Roundup: 'MIB 3' Grabs $135.3 Million Overseas</a></font></td></tr><tr bgcolor=\"#f4f4ff\"><td><font size=\"2\"><a href=\"/news/?id=3448&amp;p=.htm\">5/27/12 Weekend Report: 'MIB 3' Beats 'Avengers' With Solid Memorial Debut</a></font></td></tr><tr bgcolor=\"#ffffff\"><td><font size=\"2\"><a href=\"/news/?id=3447&amp;p=.htm\">5/26/12 Friday Report: 'MIB 3' Takes Top Spot from 'Avengers'</a></font></td></tr><tr bgcolor=\"#f4f4ff\"><td><font size=\"2\"><a href=\"/news/?id=3445&amp;p=.htm\">5/20/12 Weekend Report: 'Battleship' Drowns Under Weight of 'Avengers'</a></font></td></tr><tr bgcolor=\"#ffffff\"><td><font size=\"2\"><a href=\"/news/?id=3443&amp;p=.htm\">5/13/12 Around-the-World Roundup: 'Avengers' Reaches $1 Billion Worldwide</a></font></td></tr><tr bgcolor=\"#f4f4ff\"><td><font size=\"2\"><a href=\"/news/?id=3442&amp;p=.htm\">5/13/12 Weekend Report: 'Avengers' Shatters More Records, 'Shadows' Mostly Sucks</a></font></td></tr><tr bgcolor=\"#ffffff\"><td><font size=\"2\"><a href=\"/news/?id=3441&amp;p=.htm\">5/12/12 Friday Report: 'Dark Shadows' Can't Slow 'Avengers'</a></font></td></tr><tr bgcolor=\"#f4f4ff\"><td><font size=\"2\"><a href=\"/news/?id=3440&amp;p=.htm\">5/10/12 Forecast: Depp, Burton Open in 'Shadow' of 'Avengers'</a></font></td></tr><tr bgcolor=\"#ffffff\"><td><font size=\"2\"><a href=\"/news/?id=3439&amp;p=.htm\">5/8/12 Around-the-World Roundup: 'Avengers' Dominates Again</a></font></td></tr><tr bgcolor=\"#f4f4ff\"><td><font size=\"2\"><a href=\"/news/?id=3438&amp;p=.htm\">5/7/12 Weekend Report: 'Avengers' Smashes Records</a></font></td></tr><tr bgcolor=\"#ffffff\"><td><font size=\"2\"><a href=\"/news/?id=3437&amp;p=.htm\">5/5/12 Friday Report: 'Avengers' Amazes with $80.5 Million</a></font></td></tr><tr bgcolor=\"#f4f4ff\"><td><font size=\"2\"><a href=\"/news/?id=3436&amp;p=.htm\">5/4/12 'Avengers' Scores Highest Superhero Midnight Opening Ever</a></font></td></tr><tr bgcolor=\"#ffffff\"><td><font size=\"2\"><a href=\"/news/?id=3435&amp;p=.htm\">5/3/12 Forecast: 'The Avengers' Takes Aim at Opening Weekend Record</a></font></td></tr><tr bgcolor=\"#f4f4ff\"><td><font size=\"2\"><a href=\"/news/?id=3433&amp;p=.htm\">5/2/12 Summer 2012 Domestic Forecast</a></font></td></tr><tr bgcolor=\"#ffffff\"><td><font size=\"2\"><a href=\"/news/?id=3431&amp;p=.htm\">4/29/12 Around-the-World Roundup: The Avengers Assemble $185.1 Million Overseas Debut</a></font></td></tr><tr bgcolor=\"#f4f4ff\"><td><font size=\"2\"><a href=\"/news/?id=3428&amp;p=.htm\">4/27/12 May 2012 Preview</a></font></td></tr><tr bgcolor=\"#ffffff\"><td><font size=\"2\"><a href=\"/news/?id=3426&amp;p=.htm\">4/25/12 Summer 2012 Foreign Forecast</a></font></td></tr><tr bgcolor=\"#f4f4ff\"><td><font size=\"2\"><a href=\"/news/?id=3243&amp;p=.htm\">8/10/11 What's the Next Billion Dollar Movie?</a></font></td></tr><tr bgcolor=\"#ffffff\"><td><font size=\"2\"><a href=\"/news/?id=3218&amp;p=.htm\">7/22/11 'Potter's Opening Record to Be Challenged Soon</a></font></td></tr></table></div></div> <div class=\"mp_box\">\n",
       "<div class=\"mp_box_tab\">Related Products</div>\n",
       "<div class=\"mp_box_content\"><ul>\n",
       "<li><a href=\"http://www.amazon.com/gp/product/B001KVZ6HK?ie=UTF8&amp;tag=boxofficemojo-20&amp;linkCode=as2&amp;camp=1789&amp;creative=9325&amp;creativeASIN=B001KVZ6HK\">Marvel's The Avengers [4-Disc Blu-ray]</a><img alt=\"\" border=\"0\" height=\"1\" src=\"http://www.assoc-amazon.com/e/ir?t=boxofficemojo-20&amp;l=as2&amp;o=1&amp;a=B001KVZ6HK\" style=\"border:none !important; margin:0px !important;\" width=\"1\"/></li>\n",
       "<li><a href=\"http://www.amazon.com/gp/product/B0083SBJXS?ie=UTF8&amp;tag=boxofficemojo-20&amp;linkCode=as2&amp;camp=1789&amp;creative=9325&amp;creativeASIN=B0083SBJXS\">Marvel's The Avengers [Blu-ray]</a><img alt=\"\" border=\"0\" height=\"1\" src=\"http://www.assoc-amazon.com/e/ir?t=boxofficemojo-20&amp;l=as2&amp;o=1&amp;a=B0083SBJXS\" style=\"border:none !important; margin:0px !important;\" width=\"1\"/></li>\n",
       "<li><a href=\"http://www.amazon.com/gp/product/B0083SBMBM?ie=UTF8&amp;tag=boxofficemojo-20&amp;linkCode=as2&amp;camp=1789&amp;creative=9325&amp;creativeASIN=B0083SBMBM\">Marvel's The Avengers</a><img alt=\"\" border=\"0\" height=\"1\" src=\"http://www.assoc-amazon.com/e/ir?t=boxofficemojo-20&amp;l=as2&amp;o=1&amp;a=B0083SBMBM\" style=\"border:none !important; margin:0px !important;\" width=\"1\"/></li>\n",
       "<li><a href=\"http://www.amazon.com/gp/product/B0083SBMGW?ie=UTF8&amp;tag=boxofficemojo-20&amp;linkCode=as2&amp;camp=1789&amp;creative=9325&amp;creativeASIN=B0083SBMGW\">Marvel Cinematic Universe: Phase One - Avengers Assembled [Blu-ray]</a><img alt=\"\" border=\"0\" height=\"1\" src=\"http://www.assoc-amazon.com/e/ir?t=boxofficemojo-20&amp;l=as2&amp;o=1&amp;a=B0083SBMGW\" style=\"border:none !important; margin:0px !important;\" width=\"1\"/></li>\n",
       "<li><a href=\"http://www.amazon.com/gp/product/B0083SBMGW?ie=UTF8&amp;tag=boxofficemojo-20&amp;linkCode=as2&amp;camp=1789&amp;creative=9325&amp;creativeASIN=B0083SBMGW\">Marvel Cinematic Universe: Phase One - Avengers Assembled [Blu-ray]</a><img alt=\"\" border=\"0\" height=\"1\" src=\"http://www.assoc-amazon.com/e/ir?t=boxofficemojo-20&amp;l=as2&amp;o=1&amp;a=B0083SBMGW\" style=\"border:none !important; margin:0px !important;\" width=\"1\"/></li>\n",
       "</ul></div></div> <object classid=\"clsid:D27CDB6E-AE6D-11cf-96B8-444553540000\" codebase=\"http://fpdownload.macromedia.com/get/flashplayer/current/swflash.cab\" height=\"150px\" id=\"Player_82160f42-9620-4d0a-b79a-18b1abd853fb\" width=\"400px\"> <param name=\"movie\" value=\"http://ws.amazon.com/widgets/q?ServiceVersion=20070822&amp;MarketPlace=US&amp;ID=V20070822%2FUS%2Fboxofficemojo-20%2F8010%2F82160f42-9620-4d0a-b79a-18b1abd853fb&amp;Operation=GetDisplayTemplate\"></param><param name=\"quality\" value=\"high\"></param><param name=\"bgcolor\" value=\"#FFFFFF\"></param><param name=\"allowscriptaccess\" value=\"always\"></param><embed align=\"middle\" allowscriptaccess=\"always\" bgcolor=\"#ffffff\" height=\"150px\" id=\"Player_82160f42-9620-4d0a-b79a-18b1abd853fb\" name=\"Player_82160f42-9620-4d0a-b79a-18b1abd853fb\" quality=\"high\" src=\"http://ws.amazon.com/widgets/q?ServiceVersion=20070822&amp;MarketPlace=US&amp;ID=V20070822%2FUS%2Fboxofficemojo-20%2F8010%2F82160f42-9620-4d0a-b79a-18b1abd853fb&amp;Operation=GetDisplayTemplate\" type=\"application/x-shockwave-flash\" width=\"400px\"></embed></object> <noscript><a href=\"http://ws.amazon.com/widgets/q?ServiceVersion=20070822&amp;MarketPlace=US&amp;ID=V20070822%2FUS%2Fboxofficemojo-20%2F8010%2F82160f42-9620-4d0a-b79a-18b1abd853fb&amp;Operation=NoScript\">Amazon.com Widgets</a></noscript>\n",
       "</td>\n",
       "</tr>\n",
       "</table>\n",
       "<br/>\n",
       "</td>\n",
       "</tr>\n",
       "</table>\n",
       "</td></tr></table>\n",
       "<div id=\"hp_footer\">\n",
       "<div style=\"padding-bottom: 20px;\">\n",
       "<div style=\"margin: 0px 121px; vertical-align: top;\">\n",
       "<div id=\"footer_links\">\n",
       "<ul class=\"footer_link_list\">\n",
       "<li><strong>Latest Updates</strong></li>\n",
       "<li><a href=\"/news/?ref=ft\">Movie News</a>\n",
       "</li><li><a href=\"/daily/chart/?ref=ft\">Daily Chart</a></li>\n",
       "<li><a href=\"/weekend/chart/?ref=ft\">Weekend Chart</a></li>\n",
       "<li><a href=\"/alltime/?ref=ft\">All Time Charts</a></li>\n",
       "<li><a href=\"/intl/?ref=ft\">International Charts</a></li>\n",
       "</ul>\n",
       "<!--\n",
       "\t\t\t\t\t<ul class=\"footer_link_list\">\n",
       "\t\t\t\t\t\t<li><strong>Popular Movies</strong></li>\n",
       "\t\t\t\t\t\t\t\t\t\t\t</ul>\n",
       "\t\t\t\t\t-->\n",
       "<ul class=\"footer_link_list\">\n",
       "<li><strong>Indices</strong></li>\n",
       "<li><a href=\"/movies/?ref=ft\">Movies A-Z</a></li>\n",
       "<li><a href=\"/people/?ref=ft\">People</a></li>\n",
       "<li><a href=\"/genres/?ref=ft\">Genres</a></li>\n",
       "<li><a href=\"/franchises/?ref=ft\">Franchises</a></li>\n",
       "<li><a href=\"/showdowns/?ref=ft\">Showdowns</a></li>\n",
       "</ul>\n",
       "<ul class=\"footer_link_list\">\n",
       "<li><strong>Other</strong></li>\n",
       "<li><a href=\"/about/?ref=ft\">About This Site</a></li>\n",
       "<li><a href=\"/about/advertise.htm?ref=ft\">Advertising</a></li>\n",
       "<li><a href=\"/users/?ref=ft\">My Account</a></li>\n",
       "<li><a href=\"/about/rss.htm?ref=ft\">RSS Feeds</a></li>\n",
       "</ul>\n",
       "</div>\n",
       "<div id=\"copyright\">\n",
       "<a href=\"/?ref=ft\"><img alt=\"Box Office Mojo\" height=\"56\" src=\"/img/misc/bom_logo1.png\" width=\"245\"/></a><br/>\n",
       "<p>An <a href=\"http://imdb.com/\"><img alt=\"IMDb\" height=\"16\" src=\"/img/misc/IMDbSm.png\" valign=\"middle\" width=\"34\"/></a> company<br/><br/></p>\n",
       "<p>© <a href=\"http://imdb.com/\">IMDb.com</a>, Inc. or its affiliates. All rights reserved. Box Office Mojo and IMDb are trademarks or registered trademarks of IMDb.com, Inc. or its affiliates. <a href=\"/about/termsofuse.htm\">Terms of Use</a> and <a href=\"/about/privacy.htm\">Privacy Policy</a> under which this service is provided to you.</p>\n",
       "</div>\n",
       "</div>\n",
       "<div style=\"clear:both;\">\n",
       "<div>\n",
       "<!-- begin ad tag (tile=6) -->\n",
       "<script type=\"text/javascript\">\n",
       "//<![CDATA[\n",
       "ord=1227239329;\n",
       "document.write('<iframe src=\"http://ad.doubleclick.net/N4215/adi/imdb2.bom.movie/;p=b;tile=3;sz=728x90;oe=ISO-8859-1;ord=' + ord + '?\" width=\"728\" height=\"90\" marginwidth=\"0\" marginheight=\"0\" frameborder=\"0\" scrolling=\"no\">');\n",
       "\n",
       "if (navigator.userAgent.indexOf(\"Gecko\")==-1)\n",
       "{\n",
       "document.write('<script type=\"text/javascript\" src=\"http://ad.doubleclick.net/N4215/adj/imdb2.bom.movie/;p=b;tile=3;sz=728x90;abr=!ie;oe=ISO-8859-1;ord=' + ord + '?\"><\\/script>');\n",
       "}\n",
       "document.write('<\\/iframe>');\n",
       "//]]>\n",
       "</script>\n",
       "<noscript><a href=\"http://ad.doubleclick.net/N4215/jump/imdb2.bom.movie/;p=b;tile=3;sz=728x90;oe=ISO-8859-1;ord=1227239329?\" target=\"_blank\"><img alt=\"\" border=\"0\" src=\"http://ad.doubleclick.net/N4215/ad/imdb2.bom.movie/;p=b;tile=3;sz=728x90;oe=ISO-8859-1;ord=1227239329?\"/></a></noscript>\n",
       "<!-- end ad tag --></div>\n",
       "</div>\n",
       "</div>\n",
       "</div>\n",
       "<!-- Page generated in 0.08 seconds | . -->\n",
       "<script>\n",
       "  var _comscore = _comscore || [];\n",
       "  _comscore.push({ c1: \"2\", c2: \"6034961\" });\n",
       "  (function() {\n",
       "    var s = document.createElement(\"script\"), el = document.getElementsByTagName(\"script\")[0]; s.async = true;\n",
       "    s.src = (document.location.protocol == \"https:\" ? \"https://sb\" : \"http://b\") + \".scorecardresearch.com/beacon.js\";\n",
       "  el.parentNode.insertBefore(s, el);\n",
       "  })();\n",
       "</script>\n",
       "<noscript>\n",
       "<img src=\"http://b.scorecardresearch.com/p?c1=2&amp;c2=6034961&amp;cv=2.0&amp;cj=1\"/>\n",
       "</noscript>\n",
       "</tr></table></div></div></div></body>\n",
       "</html>"
      ]
     },
     "execution_count": 12,
     "metadata": {},
     "output_type": "execute_result"
    }
   ],
   "source": [
    "soup"
   ]
  },
  {
   "cell_type": "code",
   "execution_count": 13,
   "metadata": {
    "collapsed": false
   },
   "outputs": [
    {
     "data": {
      "text/plain": [
       "'Action / Adventure'"
      ]
     },
     "execution_count": 13,
     "metadata": {},
     "output_type": "execute_result"
    }
   ],
   "source": [
    "soup.find(text=re.compile('Genre:')).findNextSibling().text"
   ]
  },
  {
   "cell_type": "markdown",
   "metadata": {},
   "source": [
    "Foreign grosses"
   ]
  },
  {
   "cell_type": "code",
   "execution_count": 14,
   "metadata": {
    "collapsed": false,
    "scrolled": false
   },
   "outputs": [],
   "source": [
    "tot_lifetetime_table = soup.find(id=\"body\").find(\"table\").find_all(\"table\")[7]"
   ]
  },
  {
   "cell_type": "code",
   "execution_count": 15,
   "metadata": {
    "collapsed": false
   },
   "outputs": [
    {
     "data": {
      "text/plain": [
       "'\\xa0$896,200,000'"
      ]
     },
     "execution_count": 15,
     "metadata": {},
     "output_type": "execute_result"
    }
   ],
   "source": [
    "foreign = tot_lifetetime_table.find(\"tr\").find_all(\"tr\")[1].find_all(\"td\")[1]\n",
    "foreign.text"
   ]
  },
  {
   "cell_type": "code",
   "execution_count": 16,
   "metadata": {
    "collapsed": false
   },
   "outputs": [
    {
     "data": {
      "text/plain": [
       "896200000"
      ]
     },
     "execution_count": 16,
     "metadata": {},
     "output_type": "execute_result"
    }
   ],
   "source": [
    "remove_non_numeric(foreign.text)"
   ]
  },
  {
   "cell_type": "markdown",
   "metadata": {},
   "source": [
    "Opening weekend"
   ]
  },
  {
   "cell_type": "code",
   "execution_count": 17,
   "metadata": {
    "collapsed": false
   },
   "outputs": [],
   "source": [
    "opening_we_table = soup.find(id=\"body\").find(\"table\").find_all(\"table\")[7]\n",
    "opening_we = opening_we_table.find(\"tr\").find_all(\"tr\")[4].find_all(\"td\")[1]"
   ]
  },
  {
   "cell_type": "code",
   "execution_count": 18,
   "metadata": {
    "collapsed": false,
    "scrolled": true
   },
   "outputs": [
    {
     "data": {
      "text/plain": [
       "207438708"
      ]
     },
     "execution_count": 18,
     "metadata": {},
     "output_type": "execute_result"
    }
   ],
   "source": [
    "remove_non_numeric(opening_we.text)"
   ]
  },
  {
   "cell_type": "markdown",
   "metadata": {},
   "source": [
    "Staff"
   ]
  },
  {
   "cell_type": "code",
   "execution_count": 19,
   "metadata": {
    "collapsed": false
   },
   "outputs": [
    {
     "data": {
      "text/plain": [
       "\"\\nDirector:Joss WhedonWriters:Zak Penn (story)Joss WhedonActors:Robert Downey, Jr.Chris HemsworthChris EvansJeremy RennerMark RuffaloScarlett JohanssonClark GreggSamuel L. JacksonCobie SmuldersTom HiddlestonStellan SkarsgardGwyneth Paltrow*Paul Bettany* (Voice)Producers:Victoria Alonso (executive)Louis D'Esposito (executive)Jon Favreau (executive)Kevin FeigeAlan Fine (executive)Jeremy Latcham (executive)Stan Lee (executive)Patricia Whitcher (executive)Composer:Alan Silvestri* Denotes minor role\""
      ]
     },
     "execution_count": 19,
     "metadata": {},
     "output_type": "execute_result"
    }
   ],
   "source": [
    "staff_table = soup.find(id=\"body\").find(\"table\").find_all(\"table\")[13]\n",
    "staff_table.text"
   ]
  },
  {
   "cell_type": "code",
   "execution_count": 20,
   "metadata": {
    "collapsed": false,
    "scrolled": false
   },
   "outputs": [
    {
     "data": {
      "text/plain": [
       "['Director:Joss Whedon',\n",
       " 'Writers:Zak Penn (story)Joss Whedon',\n",
       " 'Actors:Robert Downey, Jr.Chris HemsworthChris EvansJeremy RennerMark RuffaloScarlett JohanssonClark GreggSamuel L. JacksonCobie SmuldersTom HiddlestonStellan SkarsgardGwyneth PaltrowPaul Bettany (Voice)',\n",
       " \"Producers:Victoria Alonso (executive)Louis D'Esposito (executive)Jon Favreau (executive)Kevin FeigeAlan Fine (executive)Jeremy Latcham (executive)Stan Lee (executive)Patricia Whitcher (executive)\",\n",
       " 'Composer:Alan Silvestri',\n",
       " ' Denotes minor role']"
      ]
     },
     "execution_count": 20,
     "metadata": {},
     "output_type": "execute_result"
    }
   ],
   "source": [
    "staff = [re.sub('[*]', '', i.text) for i in staff_table.find_all(\"tr\")]\n",
    "staff"
   ]
  },
  {
   "cell_type": "code",
   "execution_count": 23,
   "metadata": {
    "collapsed": false
   },
   "outputs": [
    {
     "data": {
      "text/plain": [
       "['Director:',\n",
       " 'Joss Whedon',\n",
       " 'Writers:',\n",
       " 'Zak Penn (story)',\n",
       " 'Joss Whedon',\n",
       " 'Actors:',\n",
       " 'Robert Downey',\n",
       " ' Jr.Chris Hemsworth',\n",
       " 'Chris Evans',\n",
       " 'Jeremy Renner',\n",
       " 'Mark Ruffalo',\n",
       " 'Scarlett Johansson',\n",
       " 'Clark Gregg',\n",
       " 'Samuel L. Jackson',\n",
       " 'Cobie Smulders',\n",
       " 'Tom Hiddleston',\n",
       " 'Stellan Skarsgard',\n",
       " 'Gwyneth Paltrow',\n",
       " 'Paul Bettany (Voice)',\n",
       " 'Producers:',\n",
       " 'Victoria Alonso (executive)',\n",
       " \"Louis D'Esposito (executive)\",\n",
       " 'Jon Favreau (executive)',\n",
       " 'Kevin Feige',\n",
       " 'Alan Fine (executive)',\n",
       " 'Jeremy Latcham (executive)',\n",
       " 'Stan Lee (executive)',\n",
       " 'Patricia Whitcher (executive)',\n",
       " 'Composer:',\n",
       " 'Alan Silvestri ']"
      ]
     },
     "execution_count": 23,
     "metadata": {},
     "output_type": "execute_result"
    }
   ],
   "source": [
    "soupstrainer(staff_table.text)"
   ]
  },
  {
   "cell_type": "code",
   "execution_count": 21,
   "metadata": {
    "collapsed": false
   },
   "outputs": [
    {
     "ename": "SyntaxError",
     "evalue": "unexpected EOF while parsing (<ipython-input-21-050da47d7da7>, line 7)",
     "output_type": "error",
     "traceback": [
      "\u001b[0;36m  File \u001b[0;32m\"<ipython-input-21-050da47d7da7>\"\u001b[0;36m, line \u001b[0;32m7\u001b[0m\n\u001b[0;31m    \u001b[0m\n\u001b[0m    ^\u001b[0m\n\u001b[0;31mSyntaxError\u001b[0m\u001b[0;31m:\u001b[0m unexpected EOF while parsing\n"
     ]
    }
   ],
   "source": [
    "director = defaultdict(list)\n",
    "writers = defaultdict(list)\n",
    "producers = defaultdict(list)\n",
    "composers = defaultdict(list)\n",
    "for elem in staff:\n",
    "    if elem in ['Director', 'Actors', 'Producers', 'Composer']:\n",
    "        "
   ]
  },
  {
   "cell_type": "code",
   "execution_count": null,
   "metadata": {
    "collapsed": true
   },
   "outputs": [],
   "source": []
  },
  {
   "cell_type": "code",
   "execution_count": null,
   "metadata": {
    "collapsed": true
   },
   "outputs": [],
   "source": []
  }
 ],
 "metadata": {
  "kernelspec": {
   "display_name": "Python 3",
   "language": "python",
   "name": "python3"
  },
  "language_info": {
   "codemirror_mode": {
    "name": "ipython",
    "version": 3
   },
   "file_extension": ".py",
   "mimetype": "text/x-python",
   "name": "python",
   "nbconvert_exporter": "python",
   "pygments_lexer": "ipython3",
   "version": "3.5.0"
  }
 },
 "nbformat": 4,
 "nbformat_minor": 0
}
