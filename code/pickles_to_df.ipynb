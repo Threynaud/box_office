{
 "cells": [
  {
   "cell_type": "code",
   "execution_count": 65,
   "metadata": {
    "collapsed": true
   },
   "outputs": [],
   "source": [
    "from web_scraping import *\n",
    "import glob\n",
    "import pandas as pd\n",
    "import urllib\n",
    "import json"
   ]
  },
  {
   "cell_type": "code",
   "execution_count": 19,
   "metadata": {
    "collapsed": true
   },
   "outputs": [],
   "source": [
    "list_pickles = glob.glob('//Users//Thms//ds//Metis//Week 2//mojo_pickles//*')"
   ]
  },
  {
   "cell_type": "code",
   "execution_count": 20,
   "metadata": {
    "collapsed": false
   },
   "outputs": [
    {
     "name": "stderr",
     "output_type": "stream",
     "text": []
    }
   ],
   "source": [
    "list_dict_movies = []\n",
    "for pick in tqdm(list_pickles):\n",
    "    movie = pickle.load(open(pick,\"rb\"))\n",
    "    list_dict_movies.append(get_movie_infos(movie))"
   ]
  },
  {
   "cell_type": "code",
   "execution_count": 21,
   "metadata": {
    "collapsed": false
   },
   "outputs": [],
   "source": [
    "df = pd.DataFrame(list_dict_movies)"
   ]
  },
  {
   "cell_type": "code",
   "execution_count": 22,
   "metadata": {
    "collapsed": true
   },
   "outputs": [],
   "source": [
    "cols = ['movie title', 'domestic total gross', 'release date', 'genre', 'runtime', 'rating', 'budget', 'director', 'actors',\n",
    "        'composer', 'cinematographer', 'writers', 'producer']"
   ]
  },
  {
   "cell_type": "code",
   "execution_count": 23,
   "metadata": {
    "collapsed": true
   },
   "outputs": [],
   "source": [
    "df = df[cols]"
   ]
  },
  {
   "cell_type": "code",
   "execution_count": 25,
   "metadata": {
    "collapsed": true
   },
   "outputs": [],
   "source": [
    "pickle.dump(df, open( \"movies_df.p\", \"wb\"))"
   ]
  },
  {
   "cell_type": "code",
   "execution_count": 34,
   "metadata": {
    "collapsed": false
   },
   "outputs": [],
   "source": [
    "df['imdb_rating'] = pd.Series(None, index=df.index)\n",
    "df['imdb_votes'] = pd.Series(None, index=df.index)\n",
    "df['imdb_rating'] = pd.Series(None, index=df.index)\n",
    "df['meta_score'] = pd.Series(None, index=df.index)\n",
    "df['tomato_meter'] = pd.Series(None, index=df.index)\n",
    "df['tomato_rating'] = pd.Series(None, index=df.index)\n",
    "df['tomato_rotten'] = pd.Series(None, index=df.index)\n",
    "df['tomato_user_rating'] = pd.Series(None, index=df.index)\n",
    "df['tomato_user_reviews'] = pd.Series(None, index=df.index)\n",
    "df['tomato_consensus'] = pd.Series(None, index=df.index)"
   ]
  },
  {
   "cell_type": "code",
   "execution_count": 35,
   "metadata": {
    "collapsed": false
   },
   "outputs": [],
   "source": [
    "pickle.dump(df, open(\"movies_df.p\", \"wb\"))"
   ]
  }
 ],
 "metadata": {
  "kernelspec": {
   "display_name": "Python 3",
   "language": "python",
   "name": "python3"
  },
  "language_info": {
   "codemirror_mode": {
    "name": "ipython",
    "version": 3
   },
   "file_extension": ".py",
   "mimetype": "text/x-python",
   "name": "python",
   "nbconvert_exporter": "python",
   "pygments_lexer": "ipython3",
   "version": "3.5.0"
  }
 },
 "nbformat": 4,
 "nbformat_minor": 0
}
