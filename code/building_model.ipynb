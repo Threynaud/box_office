{
 "cells": [
  {
   "cell_type": "code",
   "execution_count": 177,
   "metadata": {
    "collapsed": true
   },
   "outputs": [],
   "source": [
    "from web_scraping import *\n",
    "import statsmodels.api as sm\n",
    "import pandas as pd\n",
    "import seaborn as sns"
   ]
  },
  {
   "cell_type": "code",
   "execution_count": 277,
   "metadata": {
    "collapsed": false,
    "scrolled": false
   },
   "outputs": [
    {
     "data": {
      "text/html": [
       "<div>\n",
       "<table border=\"1\" class=\"dataframe\">\n",
       "  <thead>\n",
       "    <tr style=\"text-align: right;\">\n",
       "      <th></th>\n",
       "      <th>movie title</th>\n",
       "      <th>domestic total gross</th>\n",
       "      <th>release date</th>\n",
       "      <th>genre</th>\n",
       "      <th>runtime</th>\n",
       "      <th>rating</th>\n",
       "      <th>budget</th>\n",
       "      <th>director</th>\n",
       "      <th>actors</th>\n",
       "      <th>composer</th>\n",
       "      <th>...</th>\n",
       "      <th>tomato_rating</th>\n",
       "      <th>tomato_rotten</th>\n",
       "      <th>tomato_user_rating</th>\n",
       "      <th>tomato_user_reviews</th>\n",
       "      <th>meta_score</th>\n",
       "      <th>tomato_consensus</th>\n",
       "      <th>degree_centrality</th>\n",
       "      <th>betweenness_centrality</th>\n",
       "      <th>closeness_centrality</th>\n",
       "      <th>mean_ratings</th>\n",
       "    </tr>\n",
       "  </thead>\n",
       "  <tbody>\n",
       "    <tr>\n",
       "      <th>0</th>\n",
       "      <td>10</td>\n",
       "      <td>74865517</td>\n",
       "      <td>1979-10-05</td>\n",
       "      <td>[Comedy, Romance]</td>\n",
       "      <td>121</td>\n",
       "      <td>R</td>\n",
       "      <td>NaN</td>\n",
       "      <td>[Blake Edwards]</td>\n",
       "      <td>[Julie Andrews]</td>\n",
       "      <td>None</td>\n",
       "      <td>...</td>\n",
       "      <td>6.4</td>\n",
       "      <td>6</td>\n",
       "      <td>2.9</td>\n",
       "      <td>14584</td>\n",
       "      <td>NaN</td>\n",
       "      <td>NaN</td>\n",
       "      <td>52</td>\n",
       "      <td>0.000821</td>\n",
       "      <td>0.161704</td>\n",
       "      <td>0.639167</td>\n",
       "    </tr>\n",
       "  </tbody>\n",
       "</table>\n",
       "<p>1 rows × 26 columns</p>\n",
       "</div>"
      ],
      "text/plain": [
       "  movie title  domestic total gross release date              genre  runtime  \\\n",
       "0          10              74865517   1979-10-05  [Comedy, Romance]      121   \n",
       "\n",
       "  rating  budget         director           actors composer      ...       \\\n",
       "0      R     NaN  [Blake Edwards]  [Julie Andrews]     None      ...        \n",
       "\n",
       "  tomato_rating tomato_rotten tomato_user_rating  tomato_user_reviews  \\\n",
       "0           6.4             6                2.9                14584   \n",
       "\n",
       "   meta_score  tomato_consensus  degree_centrality  betweenness_centrality  \\\n",
       "0         NaN               NaN                 52                0.000821   \n",
       "\n",
       "   closeness_centrality  mean_ratings  \n",
       "0              0.161704      0.639167  \n",
       "\n",
       "[1 rows x 26 columns]"
      ]
     },
     "execution_count": 277,
     "metadata": {},
     "output_type": "execute_result"
    }
   ],
   "source": [
    "df = pickle.load(open(\"movies_df.p\", \"rb\"))\n",
    "df[:1]"
   ]
  },
  {
   "cell_type": "code",
   "execution_count": 278,
   "metadata": {
    "collapsed": false
   },
   "outputs": [],
   "source": [
    "import math\n",
    "import numpy as np\n",
    "import sklearn as sk"
   ]
  },
  {
   "cell_type": "code",
   "execution_count": 306,
   "metadata": {
    "collapsed": false
   },
   "outputs": [],
   "source": [
    "df = df[np.isfinite(df['mean_ratings'])]\n",
    "df = df[df[\"release date\"] > '2010-01-01']"
   ]
  },
  {
   "cell_type": "code",
   "execution_count": 307,
   "metadata": {
    "collapsed": false
   },
   "outputs": [],
   "source": [
    "X = df[['betweenness_centrality', 'closeness_centrality', 'degree_centrality', 'mean_ratings']]"
   ]
  },
  {
   "cell_type": "code",
   "execution_count": 308,
   "metadata": {
    "collapsed": false
   },
   "outputs": [
    {
     "name": "stderr",
     "output_type": "stream",
     "text": [
      "//anaconda/lib/python3.5/site-packages/ipykernel/__main__.py:1: SettingWithCopyWarning: \n",
      "A value is trying to be set on a copy of a slice from a DataFrame.\n",
      "Try using .loc[row_indexer,col_indexer] = value instead\n",
      "\n",
      "See the caveats in the documentation: http://pandas.pydata.org/pandas-docs/stable/indexing.html#indexing-view-versus-copy\n",
      "  if __name__ == '__main__':\n"
     ]
    }
   ],
   "source": [
    "X['degree_centrality_sq'] = pd.Series(None, index=df.index)\n",
    "for row in X.iterrows():\n",
    "    X.set_value(row[0], 'degree_centrality_sq', row[1]['degree_centrality']**2)"
   ]
  },
  {
   "cell_type": "code",
   "execution_count": null,
   "metadata": {
    "collapsed": true
   },
   "outputs": [],
   "source": [
    "X['degree_centrality_sq'] = pd.Series(None, index=df.index)\n",
    "for row in X.iterrows():\n",
    "    X.set_value(row[0], 'degree_centrality_sq', row[1]['degree_centrality']**2)"
   ]
  },
  {
   "cell_type": "code",
   "execution_count": 309,
   "metadata": {
    "collapsed": false
   },
   "outputs": [],
   "source": [
    "X = X[['betweenness_centrality', 'closeness_centrality','degree_centrality_sq', 'mean_ratings']]"
   ]
  },
  {
   "cell_type": "code",
   "execution_count": 310,
   "metadata": {
    "collapsed": false
   },
   "outputs": [],
   "source": [
    "#X = df['closeness_centrality']"
   ]
  },
  {
   "cell_type": "code",
   "execution_count": 311,
   "metadata": {
    "collapsed": false
   },
   "outputs": [
    {
     "data": {
      "text/plain": [
       "3234"
      ]
     },
     "execution_count": 311,
     "metadata": {},
     "output_type": "execute_result"
    }
   ],
   "source": [
    "y = df.loc[:, 'domestic total gross']\n",
    "len(y)"
   ]
  },
  {
   "cell_type": "code",
   "execution_count": 312,
   "metadata": {
    "collapsed": false
   },
   "outputs": [],
   "source": [
    "X = sm.add_constant(X)"
   ]
  },
  {
   "cell_type": "code",
   "execution_count": 313,
   "metadata": {
    "collapsed": false
   },
   "outputs": [],
   "source": [
    "est = sm.OLS(y, X).fit()"
   ]
  },
  {
   "cell_type": "code",
   "execution_count": 314,
   "metadata": {
    "collapsed": false
   },
   "outputs": [
    {
     "data": {
      "text/html": [
       "<table class=\"simpletable\">\n",
       "<caption>OLS Regression Results</caption>\n",
       "<tr>\n",
       "  <th>Dep. Variable:</th>    <td>domestic total gross</td> <th>  R-squared:         </th> <td>   0.297</td> \n",
       "</tr>\n",
       "<tr>\n",
       "  <th>Model:</th>                     <td>OLS</td>         <th>  Adj. R-squared:    </th> <td>   0.296</td> \n",
       "</tr>\n",
       "<tr>\n",
       "  <th>Method:</th>               <td>Least Squares</td>    <th>  F-statistic:       </th> <td>   341.1</td> \n",
       "</tr>\n",
       "<tr>\n",
       "  <th>Date:</th>               <td>Thu, 28 Jan 2016</td>   <th>  Prob (F-statistic):</th> <td>3.52e-245</td>\n",
       "</tr>\n",
       "<tr>\n",
       "  <th>Time:</th>                   <td>20:55:00</td>       <th>  Log-Likelihood:    </th> <td> -61405.</td> \n",
       "</tr>\n",
       "<tr>\n",
       "  <th>No. Observations:</th>        <td>  3234</td>        <th>  AIC:               </th> <td>1.228e+05</td>\n",
       "</tr>\n",
       "<tr>\n",
       "  <th>Df Residuals:</th>            <td>  3229</td>        <th>  BIC:               </th> <td>1.229e+05</td>\n",
       "</tr>\n",
       "<tr>\n",
       "  <th>Df Model:</th>                <td>     4</td>        <th>                     </th>     <td> </td>    \n",
       "</tr>\n",
       "<tr>\n",
       "  <th>Covariance Type:</th>        <td>nonrobust</td>      <th>                     </th>     <td> </td>    \n",
       "</tr>\n",
       "</table>\n",
       "<table class=\"simpletable\">\n",
       "<tr>\n",
       "             <td></td>               <th>coef</th>     <th>std err</th>      <th>t</th>      <th>P>|t|</th> <th>[95.0% Conf. Int.]</th> \n",
       "</tr>\n",
       "<tr>\n",
       "  <th>const</th>                  <td>-1.807e+07</td> <td> 5.33e+06</td> <td>   -3.392</td> <td> 0.001</td> <td>-2.85e+07 -7.63e+06</td>\n",
       "</tr>\n",
       "<tr>\n",
       "  <th>betweenness_centrality</th> <td>-4.404e+08</td> <td> 4.43e+08</td> <td>   -0.995</td> <td> 0.320</td> <td>-1.31e+09  4.28e+08</td>\n",
       "</tr>\n",
       "<tr>\n",
       "  <th>closeness_centrality</th>   <td>  5.19e+07</td> <td> 2.58e+06</td> <td>   20.106</td> <td> 0.000</td> <td> 4.68e+07   5.7e+07</td>\n",
       "</tr>\n",
       "<tr>\n",
       "  <th>degree_centrality_sq</th>   <td>   16.8511</td> <td>    3.804</td> <td>    4.430</td> <td> 0.000</td> <td>    9.393    24.309</td>\n",
       "</tr>\n",
       "<tr>\n",
       "  <th>mean_ratings</th>           <td> 1.589e+07</td> <td> 8.14e+06</td> <td>    1.953</td> <td> 0.051</td> <td>-6.37e+04  3.18e+07</td>\n",
       "</tr>\n",
       "</table>\n",
       "<table class=\"simpletable\">\n",
       "<tr>\n",
       "  <th>Omnibus:</th>       <td>2880.688</td> <th>  Durbin-Watson:     </th>  <td>   1.740</td> \n",
       "</tr>\n",
       "<tr>\n",
       "  <th>Prob(Omnibus):</th>  <td> 0.000</td>  <th>  Jarque-Bera (JB):  </th> <td>170211.039</td>\n",
       "</tr>\n",
       "<tr>\n",
       "  <th>Skew:</th>           <td> 3.989</td>  <th>  Prob(JB):          </th>  <td>    0.00</td> \n",
       "</tr>\n",
       "<tr>\n",
       "  <th>Kurtosis:</th>       <td>37.634</td>  <th>  Cond. No.          </th>  <td>1.93e+08</td> \n",
       "</tr>\n",
       "</table>"
      ],
      "text/plain": [
       "<class 'statsmodels.iolib.summary.Summary'>\n",
       "\"\"\"\n",
       "                             OLS Regression Results                             \n",
       "================================================================================\n",
       "Dep. Variable:     domestic total gross   R-squared:                       0.297\n",
       "Model:                              OLS   Adj. R-squared:                  0.296\n",
       "Method:                   Least Squares   F-statistic:                     341.1\n",
       "Date:                  Thu, 28 Jan 2016   Prob (F-statistic):          3.52e-245\n",
       "Time:                          20:55:00   Log-Likelihood:                -61405.\n",
       "No. Observations:                  3234   AIC:                         1.228e+05\n",
       "Df Residuals:                      3229   BIC:                         1.229e+05\n",
       "Df Model:                             4                                         \n",
       "Covariance Type:              nonrobust                                         \n",
       "==========================================================================================\n",
       "                             coef    std err          t      P>|t|      [95.0% Conf. Int.]\n",
       "------------------------------------------------------------------------------------------\n",
       "const                  -1.807e+07   5.33e+06     -3.392      0.001     -2.85e+07 -7.63e+06\n",
       "betweenness_centrality -4.404e+08   4.43e+08     -0.995      0.320     -1.31e+09  4.28e+08\n",
       "closeness_centrality     5.19e+07   2.58e+06     20.106      0.000      4.68e+07   5.7e+07\n",
       "degree_centrality_sq      16.8511      3.804      4.430      0.000         9.393    24.309\n",
       "mean_ratings            1.589e+07   8.14e+06      1.953      0.051     -6.37e+04  3.18e+07\n",
       "==============================================================================\n",
       "Omnibus:                     2880.688   Durbin-Watson:                   1.740\n",
       "Prob(Omnibus):                  0.000   Jarque-Bera (JB):           170211.039\n",
       "Skew:                           3.989   Prob(JB):                         0.00\n",
       "Kurtosis:                      37.634   Cond. No.                     1.93e+08\n",
       "==============================================================================\n",
       "\n",
       "Warnings:\n",
       "[1] Standard Errors assume that the covariance matrix of the errors is correctly specified.\n",
       "[2] The condition number is large, 1.93e+08. This might indicate that there are\n",
       "strong multicollinearity or other numerical problems.\n",
       "\"\"\""
      ]
     },
     "execution_count": 314,
     "metadata": {},
     "output_type": "execute_result"
    }
   ],
   "source": [
    "est.summary()"
   ]
  },
  {
   "cell_type": "code",
   "execution_count": 322,
   "metadata": {
    "collapsed": false
   },
   "outputs": [
    {
     "data": {
      "text/plain": [
       "<matplotlib.figure.Figure at 0x112dd9518>"
      ]
     },
     "metadata": {},
     "output_type": "display_data"
    }
   ],
   "source": [
    "%matplotlib inline\n",
    "plt.figure(figsize=(20,9))\n",
    "plt.scatter = (X['degree_centrality_sq'], X['closeness_centrality'], y)\n",
    "plt.show()"
   ]
  },
  {
   "cell_type": "code",
   "execution_count": null,
   "metadata": {
    "collapsed": true
   },
   "outputs": [],
   "source": []
  }
 ],
 "metadata": {
  "kernelspec": {
   "display_name": "Python 3",
   "language": "python",
   "name": "python3"
  },
  "language_info": {
   "codemirror_mode": {
    "name": "ipython",
    "version": 3
   },
   "file_extension": ".py",
   "mimetype": "text/x-python",
   "name": "python",
   "nbconvert_exporter": "python",
   "pygments_lexer": "ipython3",
   "version": "3.5.0"
  }
 },
 "nbformat": 4,
 "nbformat_minor": 0
}
